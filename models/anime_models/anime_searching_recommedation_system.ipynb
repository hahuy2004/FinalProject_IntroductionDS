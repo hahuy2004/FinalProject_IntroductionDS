{
 "cells": [
  {
   "cell_type": "code",
   "execution_count": 15,
   "metadata": {},
   "outputs": [],
   "source": [
    "import os\n",
    "import pandas as pd\n",
    "from sklearn.feature_extraction.text import TfidfVectorizer\n",
    "import scipy.sparse as sp\n",
    "from sklearn.metrics.pairwise import cosine_similarity\n",
    "import numpy as np\n",
    "from sklearn.preprocessing import MinMaxScaler\n"
   ]
  },
  {
   "cell_type": "code",
   "execution_count": 2,
   "metadata": {},
   "outputs": [
    {
     "name": "stdout",
     "output_type": "stream",
     "text": [
      "d:\\Data Science Introduction\\Final_Project\\models\\anime_models\n",
      "d:\\Data Science Introduction\\Final_Project\\models\\anime_models\\Preprocessing\\Preprocessed Data\\raw_anime_processed.csv\n"
     ]
    }
   ],
   "source": [
    "HOME = os.getcwd()\n",
    "print(HOME)\n",
    "ANIME_DATA = os.path.join(HOME, r'Preprocessing\\Preprocessed Data\\raw_anime_processed.csv')\n",
    "print(ANIME_DATA)"
   ]
  },
  {
   "cell_type": "code",
   "execution_count": 3,
   "metadata": {},
   "outputs": [
    {
     "data": {
      "text/html": [
       "<div>\n",
       "<style scoped>\n",
       "    .dataframe tbody tr th:only-of-type {\n",
       "        vertical-align: middle;\n",
       "    }\n",
       "\n",
       "    .dataframe tbody tr th {\n",
       "        vertical-align: top;\n",
       "    }\n",
       "\n",
       "    .dataframe thead th {\n",
       "        text-align: right;\n",
       "    }\n",
       "</style>\n",
       "<table border=\"1\" class=\"dataframe\">\n",
       "  <thead>\n",
       "    <tr style=\"text-align: right;\">\n",
       "      <th></th>\n",
       "      <th>Title</th>\n",
       "      <th>Score</th>\n",
       "      <th>Vote</th>\n",
       "      <th>Ranked</th>\n",
       "      <th>Popularity</th>\n",
       "      <th>Members</th>\n",
       "      <th>Favorite</th>\n",
       "      <th>Types</th>\n",
       "      <th>Volumes</th>\n",
       "      <th>Chapters</th>\n",
       "      <th>...</th>\n",
       "      <th>Demographic</th>\n",
       "      <th>Serialization</th>\n",
       "      <th>Author</th>\n",
       "      <th>Total Review</th>\n",
       "      <th>Type Review</th>\n",
       "      <th>Realeased date</th>\n",
       "      <th>Completed date</th>\n",
       "      <th>Recommended</th>\n",
       "      <th>Mixed Feelings</th>\n",
       "      <th>Not Recommended</th>\n",
       "    </tr>\n",
       "  </thead>\n",
       "  <tbody>\n",
       "    <tr>\n",
       "      <th>0</th>\n",
       "      <td>Berserk</td>\n",
       "      <td>9.47</td>\n",
       "      <td>363720</td>\n",
       "      <td>1</td>\n",
       "      <td>1</td>\n",
       "      <td>725079</td>\n",
       "      <td>130489</td>\n",
       "      <td>Manga</td>\n",
       "      <td>3</td>\n",
       "      <td>15</td>\n",
       "      <td>...</td>\n",
       "      <td>Seinen</td>\n",
       "      <td>Young Animal</td>\n",
       "      <td>[\"'Miura,Kentarou'\", \"'Studio Gaga'\"]</td>\n",
       "      <td>289</td>\n",
       "      <td>[252, 17, 20]</td>\n",
       "      <td>1989-08-25</td>\n",
       "      <td>Updating</td>\n",
       "      <td>252</td>\n",
       "      <td>17</td>\n",
       "      <td>20</td>\n",
       "    </tr>\n",
       "    <tr>\n",
       "      <th>1</th>\n",
       "      <td>JoJo no Kimyou na Bouken Part 7: Steel Ball Ru...</td>\n",
       "      <td>9.31</td>\n",
       "      <td>172219</td>\n",
       "      <td>2</td>\n",
       "      <td>23</td>\n",
       "      <td>280428</td>\n",
       "      <td>46269</td>\n",
       "      <td>Manga</td>\n",
       "      <td>24</td>\n",
       "      <td>96</td>\n",
       "      <td>...</td>\n",
       "      <td>Seinen</td>\n",
       "      <td>Ultra Jump</td>\n",
       "      <td>[\"'Araki,Hirohiko'\"]</td>\n",
       "      <td>131</td>\n",
       "      <td>[123, 7, 1]</td>\n",
       "      <td>2004-01-19</td>\n",
       "      <td>2011-04-19</td>\n",
       "      <td>123</td>\n",
       "      <td>7</td>\n",
       "      <td>1</td>\n",
       "    </tr>\n",
       "    <tr>\n",
       "      <th>2</th>\n",
       "      <td>Vagabond</td>\n",
       "      <td>9.26</td>\n",
       "      <td>154583</td>\n",
       "      <td>3</td>\n",
       "      <td>13</td>\n",
       "      <td>406082</td>\n",
       "      <td>44258</td>\n",
       "      <td>Manga</td>\n",
       "      <td>37</td>\n",
       "      <td>327</td>\n",
       "      <td>...</td>\n",
       "      <td>Seinen</td>\n",
       "      <td>Morning</td>\n",
       "      <td>[\"'Inoue,Takehiko'\", \"'Yoshikawa,Eiji'\"]</td>\n",
       "      <td>104</td>\n",
       "      <td>[93, 9, 2]</td>\n",
       "      <td>1998-09-03</td>\n",
       "      <td>2015-05-21</td>\n",
       "      <td>93</td>\n",
       "      <td>9</td>\n",
       "      <td>2</td>\n",
       "    </tr>\n",
       "    <tr>\n",
       "      <th>3</th>\n",
       "      <td>One Piece</td>\n",
       "      <td>9.22</td>\n",
       "      <td>392811</td>\n",
       "      <td>4</td>\n",
       "      <td>4</td>\n",
       "      <td>642620</td>\n",
       "      <td>119974</td>\n",
       "      <td>Manga</td>\n",
       "      <td>3</td>\n",
       "      <td>15</td>\n",
       "      <td>...</td>\n",
       "      <td>Shounen</td>\n",
       "      <td>Shounen Jump (Weekly)</td>\n",
       "      <td>[\"'Oda,Eiichiro'\"]</td>\n",
       "      <td>231</td>\n",
       "      <td>[190, 21, 20]</td>\n",
       "      <td>1997-07-22</td>\n",
       "      <td>Updating</td>\n",
       "      <td>190</td>\n",
       "      <td>21</td>\n",
       "      <td>20</td>\n",
       "    </tr>\n",
       "    <tr>\n",
       "      <th>4</th>\n",
       "      <td>Monster</td>\n",
       "      <td>9.16</td>\n",
       "      <td>104327</td>\n",
       "      <td>5</td>\n",
       "      <td>29</td>\n",
       "      <td>258581</td>\n",
       "      <td>22008</td>\n",
       "      <td>Manga</td>\n",
       "      <td>18</td>\n",
       "      <td>162</td>\n",
       "      <td>...</td>\n",
       "      <td>Seinen</td>\n",
       "      <td>Big Comic Original</td>\n",
       "      <td>[\"'Urasawa,Naoki'\"]</td>\n",
       "      <td>86</td>\n",
       "      <td>[69, 11, 6]</td>\n",
       "      <td>1994-12-05</td>\n",
       "      <td>2001-12-20</td>\n",
       "      <td>69</td>\n",
       "      <td>11</td>\n",
       "      <td>6</td>\n",
       "    </tr>\n",
       "  </tbody>\n",
       "</table>\n",
       "<p>5 rows × 24 columns</p>\n",
       "</div>"
      ],
      "text/plain": [
       "                                               Title  Score    Vote  Ranked  \\\n",
       "0                                            Berserk   9.47  363720       1   \n",
       "1  JoJo no Kimyou na Bouken Part 7: Steel Ball Ru...   9.31  172219       2   \n",
       "2                                           Vagabond   9.26  154583       3   \n",
       "3                                          One Piece   9.22  392811       4   \n",
       "4                                            Monster   9.16  104327       5   \n",
       "\n",
       "   Popularity  Members  Favorite  Types  Volumes  Chapters  ... Demographic  \\\n",
       "0           1   725079    130489  Manga        3        15  ...      Seinen   \n",
       "1          23   280428     46269  Manga       24        96  ...      Seinen   \n",
       "2          13   406082     44258  Manga       37       327  ...      Seinen   \n",
       "3           4   642620    119974  Manga        3        15  ...     Shounen   \n",
       "4          29   258581     22008  Manga       18       162  ...      Seinen   \n",
       "\n",
       "           Serialization                                    Author  \\\n",
       "0           Young Animal     [\"'Miura,Kentarou'\", \"'Studio Gaga'\"]   \n",
       "1             Ultra Jump                      [\"'Araki,Hirohiko'\"]   \n",
       "2                Morning  [\"'Inoue,Takehiko'\", \"'Yoshikawa,Eiji'\"]   \n",
       "3  Shounen Jump (Weekly)                        [\"'Oda,Eiichiro'\"]   \n",
       "4     Big Comic Original                       [\"'Urasawa,Naoki'\"]   \n",
       "\n",
       "  Total Review    Type Review Realeased date Completed date  Recommended  \\\n",
       "0          289  [252, 17, 20]     1989-08-25       Updating          252   \n",
       "1          131    [123, 7, 1]     2004-01-19     2011-04-19          123   \n",
       "2          104     [93, 9, 2]     1998-09-03     2015-05-21           93   \n",
       "3          231  [190, 21, 20]     1997-07-22       Updating          190   \n",
       "4           86    [69, 11, 6]     1994-12-05     2001-12-20           69   \n",
       "\n",
       "  Mixed Feelings Not Recommended  \n",
       "0             17              20  \n",
       "1              7               1  \n",
       "2              9               2  \n",
       "3             21              20  \n",
       "4             11               6  \n",
       "\n",
       "[5 rows x 24 columns]"
      ]
     },
     "execution_count": 3,
     "metadata": {},
     "output_type": "execute_result"
    }
   ],
   "source": [
    "# df = pd.read_csv(ANIME_DATA)\n",
    "df = pd.read_csv(r'D:\\Data Science Introduction\\Final_Project\\Preprocessing\\Preprocessed Data\\raw_anime_processed.csv')\n",
    "df.head()"
   ]
  },
  {
   "cell_type": "markdown",
   "metadata": {},
   "source": [
    "Attributes  dataset"
   ]
  },
  {
   "cell_type": "code",
   "execution_count": 4,
   "metadata": {},
   "outputs": [
    {
     "data": {
      "text/plain": [
       "Index(['Title', 'Score', 'Vote', 'Ranked', 'Popularity', 'Members', 'Favorite',\n",
       "       'Types', 'Volumes', 'Chapters', 'Status', 'Published', 'Genres',\n",
       "       'Themes', 'Demographic', 'Serialization', 'Author', 'Total Review',\n",
       "       'Type Review', 'Realeased date', 'Completed date', 'Recommended',\n",
       "       'Mixed Feelings', 'Not Recommended'],\n",
       "      dtype='object')"
      ]
     },
     "execution_count": 4,
     "metadata": {},
     "output_type": "execute_result"
    }
   ],
   "source": [
    "df.keys()"
   ]
  },
  {
   "cell_type": "markdown",
   "metadata": {},
   "source": [
    "Filling empty values"
   ]
  },
  {
   "cell_type": "code",
   "execution_count": 5,
   "metadata": {},
   "outputs": [],
   "source": [
    "df['Genres'] = df['Genres'].fillna(str(['''''']))\n",
    "df['Themes'] = df['Themes'].fillna(str(['''''']))"
   ]
  },
  {
   "cell_type": "markdown",
   "metadata": {},
   "source": [
    "Normalize string attributes"
   ]
  },
  {
   "cell_type": "code",
   "execution_count": null,
   "metadata": {},
   "outputs": [],
   "source": [
    "# Chuyển các thuộc tính dạng list thành chuỗi văn bản\n",
    "df['Genres_str'] = df['Genres'].apply(lambda x: \" \".join([genre.strip(\"'\") for genre in x.split(',')]) if x and isinstance(x, str) else \"\")\n",
    "df['Themes_str'] = df['Themes'].apply(lambda x: \" \".join([theme.strip(\"'\") for theme in x.split(',')]) if x and isinstance(x, str) else \"\")\n",
    "df['Author_str'] = df['Author'].apply(lambda x: \" \".join([author.strip(\"'\") for author in x.split(',')]) if x and isinstance(x, str) else \"\")\n",
    "\n",
    "# Áp dụng TF-IDF cho các thuộc tính dạng chuỗi\n",
    "tfidf = TfidfVectorizer(stop_words='english')\n",
    "\n",
    "tfidf_Title_matrix = tfidf.fit_transform(df['Title'])\n",
    "tfidf_Types_matrix = tfidf.fit_transform(df['Types'])\n",
    "tfidf_Genres_matrix = tfidf.fit_transform(df['Genres_str'])\n",
    "tfidf_Themes_matrix = tfidf.fit_transform(df['Themes_str'])\n",
    "tfidf_Author_matrix = tfidf.fit_transform(df['Author_str'])"
   ]
  },
  {
   "cell_type": "markdown",
   "metadata": {},
   "source": [
    "Normalize number attributes"
   ]
  },
  {
   "cell_type": "code",
   "execution_count": null,
   "metadata": {},
   "outputs": [],
   "source": [
    "\n",
    "# Chuẩn hóa các thuộc tính dạng số\n",
    "scaler = MinMaxScaler()\n",
    "df[['Score', 'Vote', 'Ranked', 'Popularity', 'Recommended']] = scaler.fit_transform(df[['Score', 'Vote', 'Ranked', 'Popularity', 'Recommended']])\n"
   ]
  },
  {
   "cell_type": "code",
   "execution_count": null,
   "metadata": {},
   "outputs": [],
   "source": [
    "X_tfidf = sp.hstack([\n",
    "    tfidf_Title_matrix,       # Giữ dạng sparse\n",
    "    tfidf_Types_matrix,\n",
    "    tfidf_Genres_matrix,\n",
    "    tfidf_Themes_matrix,\n",
    "    tfidf_Author_matrix,\n",
    "    sp.csr_matrix(df[['Score']].values),  # Chuyển các cột số sang sparse\n",
    "    sp.csr_matrix(df[['Vote']].values),\n",
    "    sp.csr_matrix(df[['Ranked']].values),\n",
    "    sp.csr_matrix(df[['Popularity']].values),\n",
    "    sp.csr_matrix(df[['Recommended']].values)\n",
    "])\n"
   ]
  },
  {
   "cell_type": "code",
   "execution_count": null,
   "metadata": {},
   "outputs": [
    {
     "ename": "MemoryError",
     "evalue": "Unable to allocate 2.98 GiB for an array with shape (400000000,) and data type float64",
     "output_type": "error",
     "traceback": [
      "\u001b[1;31m---------------------------------------------------------------------------\u001b[0m",
      "\u001b[1;31mMemoryError\u001b[0m                               Traceback (most recent call last)",
      "Cell \u001b[1;32mIn[14], line 18\u001b[0m\n\u001b[0;32m     14\u001b[0m     similarity \u001b[38;5;241m=\u001b[39m similarity\u001b[38;5;241m.\u001b[39mmultiply(\u001b[38;5;241m1\u001b[39m \u001b[38;5;241m/\u001b[39m Y_norms[\u001b[38;5;28;01mNone\u001b[39;00m, :])   \u001b[38;5;66;03m# Normalize columns of Y\u001b[39;00m\n\u001b[0;32m     16\u001b[0m     \u001b[38;5;28;01mreturn\u001b[39;00m similarity\n\u001b[1;32m---> 18\u001b[0m cosine_sim \u001b[38;5;241m=\u001b[39m \u001b[43mcosine_similarity_manual\u001b[49m\u001b[43m(\u001b[49m\u001b[43mX_tfidf\u001b[49m\u001b[43m,\u001b[49m\u001b[43m \u001b[49m\u001b[43mX_tfidf\u001b[49m\u001b[43m)\u001b[49m\n",
      "Cell \u001b[1;32mIn[14], line 13\u001b[0m, in \u001b[0;36mcosine_similarity_manual\u001b[1;34m(X, Y)\u001b[0m\n\u001b[0;32m     10\u001b[0m dot_product \u001b[38;5;241m=\u001b[39m X\u001b[38;5;241m.\u001b[39mdot(Y\u001b[38;5;241m.\u001b[39mT)  \u001b[38;5;66;03m# Pairwise dot products\u001b[39;00m\n\u001b[0;32m     12\u001b[0m \u001b[38;5;66;03m# Normalize the dot products by the outer product of norms\u001b[39;00m\n\u001b[1;32m---> 13\u001b[0m similarity \u001b[38;5;241m=\u001b[39m \u001b[43mdot_product\u001b[49m\u001b[38;5;241;43m.\u001b[39;49m\u001b[43mmultiply\u001b[49m\u001b[43m(\u001b[49m\u001b[38;5;241;43m1\u001b[39;49m\u001b[43m \u001b[49m\u001b[38;5;241;43m/\u001b[39;49m\u001b[43m \u001b[49m\u001b[43mX_norms\u001b[49m\u001b[43m[\u001b[49m\u001b[43m:\u001b[49m\u001b[43m,\u001b[49m\u001b[43m \u001b[49m\u001b[38;5;28;43;01mNone\u001b[39;49;00m\u001b[43m]\u001b[49m\u001b[43m)\u001b[49m  \u001b[38;5;66;03m# Normalize rows of X\u001b[39;00m\n\u001b[0;32m     14\u001b[0m similarity \u001b[38;5;241m=\u001b[39m similarity\u001b[38;5;241m.\u001b[39mmultiply(\u001b[38;5;241m1\u001b[39m \u001b[38;5;241m/\u001b[39m Y_norms[\u001b[38;5;28;01mNone\u001b[39;00m, :])   \u001b[38;5;66;03m# Normalize columns of Y\u001b[39;00m\n\u001b[0;32m     16\u001b[0m \u001b[38;5;28;01mreturn\u001b[39;00m similarity\n",
      "File \u001b[1;32mc:\\Users\\MINH HUNG\\AppData\\Local\\Programs\\Python\\Python312\\Lib\\site-packages\\scipy\\sparse\\_compressed.py:474\u001b[0m, in \u001b[0;36m_cs_matrix.multiply\u001b[1;34m(self, other)\u001b[0m\n\u001b[0;32m    472\u001b[0m \u001b[38;5;66;03m# Sparse matrix times dense column vector.\u001b[39;00m\n\u001b[0;32m    473\u001b[0m \u001b[38;5;28;01melif\u001b[39;00m other2d\u001b[38;5;241m.\u001b[39mshape[\u001b[38;5;241m1\u001b[39m] \u001b[38;5;241m==\u001b[39m \u001b[38;5;241m1\u001b[39m \u001b[38;5;129;01mand\u001b[39;00m \u001b[38;5;28mself\u001b[39m\u001b[38;5;241m.\u001b[39mshape[\u001b[38;5;241m0\u001b[39m] \u001b[38;5;241m==\u001b[39m other2d\u001b[38;5;241m.\u001b[39mshape[\u001b[38;5;241m0\u001b[39m]:\n\u001b[1;32m--> 474\u001b[0m     data \u001b[38;5;241m=\u001b[39m \u001b[43mnp\u001b[49m\u001b[38;5;241;43m.\u001b[39;49m\u001b[43mmultiply\u001b[49m\u001b[43m(\u001b[49m\u001b[43mret\u001b[49m\u001b[38;5;241;43m.\u001b[39;49m\u001b[43mdata\u001b[49m\u001b[43m,\u001b[49m\u001b[43m \u001b[49m\u001b[43mother2d\u001b[49m\u001b[43m[\u001b[49m\u001b[43mret\u001b[49m\u001b[38;5;241;43m.\u001b[39;49m\u001b[43mrow\u001b[49m\u001b[43m]\u001b[49m\u001b[38;5;241;43m.\u001b[39;49m\u001b[43mravel\u001b[49m\u001b[43m(\u001b[49m\u001b[43m)\u001b[49m\u001b[43m)\u001b[49m\n\u001b[0;32m    475\u001b[0m \u001b[38;5;28;01melse\u001b[39;00m:\n\u001b[0;32m    476\u001b[0m     \u001b[38;5;28;01mraise\u001b[39;00m \u001b[38;5;167;01mValueError\u001b[39;00m(\u001b[38;5;124m\"\u001b[39m\u001b[38;5;124minconsistent shapes\u001b[39m\u001b[38;5;124m\"\u001b[39m)\n",
      "\u001b[1;31mMemoryError\u001b[0m: Unable to allocate 2.98 GiB for an array with shape (400000000,) and data type float64"
     ]
    }
   ],
   "source": [
    "# Tính ma trận độ tương đồng cosine\n",
    "cosine_sim = cosine_similarity(X_tfidf, X_tfidf)\n"
   ]
  },
  {
   "cell_type": "markdown",
   "metadata": {},
   "source": [
    "Attributes selection using PCA"
   ]
  },
  {
   "cell_type": "code",
   "execution_count": 10,
   "metadata": {},
   "outputs": [],
   "source": [
    "def recommend_anime(title, cosine_sim, df, top_n=5):\n",
    "    # Step 1: Find the index (anime_id) of the anime matching the title\n",
    "    idx = df[df['Title'] == title].index\n",
    "\n",
    "    if idx.empty:\n",
    "        print(f\"No anime found with title: {title}\")\n",
    "        return []\n",
    "    \n",
    "    idx = idx[0]  # Get the first match (assuming titles are unique)\n",
    "\n",
    "    # Step 2: Get the similarity scores for this anime\n",
    "    sim_scores = list(enumerate(cosine_sim[idx]))\n",
    "\n",
    "    # Step 3: Sort by similarity scores in descending order\n",
    "    sim_scores = sorted(sim_scores, key=lambda x: x[1], reverse=True)\n",
    "\n",
    "    # Step 4: Get the top_n most similar anime (excluding itself)\n",
    "    sim_scores = sim_scores[1:top_n+1]  # Skip the first, as it’s the same anime\n",
    "\n",
    "    # Step 5: Retrieve the anime titles for recommendations\n",
    "    anime_indices = [i[0] for i in sim_scores]\n",
    "    recommended = df.iloc[anime_indices]\n",
    "\n",
    "    return recommended[['Title', 'Score']]  # Return relevant columns\n"
   ]
  },
  {
   "cell_type": "code",
   "execution_count": 12,
   "metadata": {},
   "outputs": [
    {
     "name": "stdout",
     "output_type": "stream",
     "text": [
      "Recommended anime:\n",
      "                                             Title     Score\n",
      "26    3-gatsu no Lion (March Comes in Like a Lion)  0.913352\n",
      "55      Shoujo Shuumatsu Ryokou (Girls' Last Tour)  0.892045\n",
      "1981                   Akachan to Boku (Baby & Me)  0.741477\n",
      "247                                 Azumanga Daioh  0.842330\n",
      "3064                                  Papa Told Me  0.717330\n"
     ]
    }
   ],
   "source": [
    "title_to_search = \"Yotsuba to! (Yotsuba&!)\"\n",
    "recommendations = recommend_anime(title_to_search, cosine_sim, df, top_n=5)\n",
    "\n",
    "if not recommendations.empty:\n",
    "    print(\"Recommended anime:\")\n",
    "    print(recommendations)\n",
    "else:\n",
    "    print(\"No recommendations found.\")\n"
   ]
  }
 ],
 "metadata": {
  "kernelspec": {
   "display_name": "Python 3",
   "language": "python",
   "name": "python3"
  },
  "language_info": {
   "codemirror_mode": {
    "name": "ipython",
    "version": 3
   },
   "file_extension": ".py",
   "mimetype": "text/x-python",
   "name": "python",
   "nbconvert_exporter": "python",
   "pygments_lexer": "ipython3",
   "version": "3.12.0"
  }
 },
 "nbformat": 4,
 "nbformat_minor": 2
}
