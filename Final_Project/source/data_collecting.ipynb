{
 "cells": [
  {
   "cell_type": "markdown",
   "metadata": {
    "id": "7g_-ovCO5d6v"
   },
   "source": [
    "# **Data Collecting**"
   ]
  },
  {
   "cell_type": "markdown",
   "metadata": {
    "id": "_gkbotwZ5d6x"
   },
   "source": [
    "---"
   ]
  },
  {
   "cell_type": "markdown",
   "metadata": {
    "id": "CqEWGhGe5d6z"
   },
   "source": [
    "<div class=\"list-group\" id=\"list-tab\" role=\"tablist\">\n",
    "    \n",
    "## MỤC LỤC:\n",
    "- [1. TỔNG QUAN VỀ ĐỒ ÁN VÀ NGUỒN DỮ LIỆU](#1)\n",
    "    - [1.1. Yêu cầu đồ án](#1.1)\n",
    "    - [1.2. Nguồn thu thập dữ liệu](#1.2)\n",
    "    - [1.3. Ý nghĩa của các thuộc tính được thu thập](#1.3)\n",
    "\n",
    "- [2. IMPORT THƯ VIỆN](#2)\n",
    "\n",
    "- [3. THU THẬP DỮ LIỆU](#3)\n",
    "    - [3.1. Thu thập URLs của các bộ truyện](#3.1)\n",
    "    - [3.2. Thu thập nội dung HTML cho từng bộ truyện](#3.2)\n",
    "    - [3.3. Thu thập dữ liệu cho từng bộ truyện](#3.3)\n",
    "    - [3.4. Lưu dữ liệu với tên `raw_manga.csv`](#3.4)"
   ]
  },
  {
   "cell_type": "markdown",
   "metadata": {
    "id": "G4f-h_JY5d60"
   },
   "source": [
    "---"
   ]
  },
  {
   "cell_type": "markdown",
   "metadata": {
    "id": "lnZO0udU5d60"
   },
   "source": [
    "## 1. TỔNG QUAN VỀ ĐỒ ÁN VÀ NGUỒN DỮ LIỆU"
   ]
  },
  {
   "cell_type": "markdown",
   "metadata": {
    "id": "TIiOqxGI5d60"
   },
   "source": [
    "### 1.1. Yêu cầu đồ án"
   ]
  },
  {
   "cell_type": "markdown",
   "metadata": {
    "id": "9TQlXKKR5d60"
   },
   "source": [
    "Mỗi nhóm phải thu thập dữ liệu liên quan đến chủ đề cần giải quyết. Sinh viên phải tự quản lý và xử lý dữ liệu bằng cách sử dụng các công cụ hỗ trợ đã được giới thiệu trong các bài giảng, ví dụ như **Selenium**, **Request**, hoặc **API**. Việc sử dụng các bộ dữ liệu đã được công bố hoặc có sẵn từ trước **không được phép** trong đồ án này. Dữ liệu phải được cấu trúc thành một bảng với **ít nhất 5 thuộc tính** và **1000 bản ghi**."
   ]
  },
  {
   "cell_type": "markdown",
   "metadata": {},
   "source": [
    "### 1.2. Bối cảnh chung"
   ]
  },
  {
   "cell_type": "markdown",
   "metadata": {},
   "source": [
    "- Manga, Manhua, Manhwa, Light-novel và các thể loại truyện khác là những hình thức nghệ thuật kể chuyện độc đáo, đại diện cho các nền văn hóa đa dạng từ Nhật Bản, Trung Quốc, Hàn Quốc và các tác giả quốc tế. Không chỉ dừng lại ở vai trò giải trí, các tác phẩm này đã trở thành cầu nối văn hóa, phản ánh xã hội, tư tưởng, và những giá trị sâu sắc thông qua các câu chuyện hấp dẫn và phong cách nghệ thuật đặc sắc.\n",
    "- Sự bùng nổ của các nền tảng như `MyAnimeList (MAL)`, `Anime-Planet`, hay các website đọc truyện trực tuyến đã mở ra cơ hội lớn để phân tích dữ liệu và khám phá xu hướng của thị trường màu mỡ này. Các thông tin về thể loại, đánh giá người dùng, số lượng độc giả, và mức độ phổ biến của từng tác phẩm đều là những chỉ số quan trọng giúp hiểu rõ hơn về ngành công nghiệp truyện tranh và tiểu thuyết.\n",
    "- Phân tích dữ liệu từ các nguồn này không chỉ giúp chúng ta hiểu sâu sắc hơn về sở thích của độc giả, nghiên cứu văn hóa và xã hội, cũng như dữ đoán xu hướng phát triển các thể loại truyện trong tương lai."
   ]
  },
  {
   "cell_type": "markdown",
   "metadata": {
    "id": "GKDqNCi95d61"
   },
   "source": [
    "### 1.3. Nguồn thu thập dữ liệu, tính hợp pháp và tính tin cậy của bộ dữ liệu"
   ]
  },
  {
   "cell_type": "markdown",
   "metadata": {
    "id": "6j_WhPTj5d61"
   },
   "source": [
    "- Nhóm thu thập thông tin về các bộ Manga, Manhua, Manhwa, Light Novel, Novel, Oneshot, Doujinshi,... trên nền tảng [MyAnimeList](https://myanimelist.net/topmanga.php)\n",
    "\n",
    "- `MyAnimeList (MAL)` là một trong những nền tảng trực tuyến lớn nhất và phổ biến nhất dành cho cộng đồng yêu thích anime và manga trên toàn thế giới. Được ra mắt vào năm 2004, MyAnimeList không chỉ là một cơ sở dữ liệu khổng lồ mà còn là nơi để người dùng kết nối, chia sẻ và khám phá những nội dung liên quan đến anime và manga. Với giao diện trực quan và chức năng đa dạng, MAL đã trở thành công cụ không thể thiếu cho bất kỳ ai đam mê loại hình nghệ thuật này. MAL thường xuyên cập nhật lịch phát hành anime, tin tức mới, thông báo về các sự kiện và hoạt động liên quan đến ngành công nghiệp anime và manga, cũng như cung cấp các chỉ số hữu ích như xếp hạng trung bình, độ phổ biến, và đánh giá từ cộng đồng. Đây là nguồn tài nguyên quý giá để tìm hiểu xu hướng, nghiên cứu sở thích của người dùng, hoặc đánh giá tác động của một tác phẩm.\n",
    "\n",
    "- Điều này cũng chứng minh rằng, dữ liệu thu thập trên `MyAnimeList` có độ tin cậy rất cao, vì đây là một nền tảng lớn và phổ biến. Đồng thời dữ liệu cũng được thu thập một cách hợp pháp bằng các công cụ thu thập dữ liệu như `requests` và `BeautifulSoup`"
   ]
  },
  {
   "cell_type": "markdown",
   "metadata": {
    "id": "iUKDSaPs5d61"
   },
   "source": [
    "### 1.4. Ý nghĩa của các thuộc tính được thu thập"
   ]
  },
  {
   "cell_type": "markdown",
   "metadata": {
    "id": "6BAxz_7m5d61"
   },
   "source": [
    "- Nhóm sẽ thu thập thông tin của 20000 bộ truyện trên nền tảng `MyAnimeList`\n",
    "- Sau đó sẽ lưu dữ liệu vào trong file .csv"
   ]
  },
  {
   "cell_type": "markdown",
   "metadata": {
    "id": "pdD0dxNr5d61"
   },
   "source": [
    "| **ATTRIBUTES**            | **GIẢI THÍCH**                                                                 |\n",
    "|:----------------------|:-------------------------------------------------------------------------|\n",
    "| **`Title`**            | Tên của bộ truyện được viết theo phiên âm tiếng Anh|\n",
    "| **`Score`**            | Điểm số của bộ truyện trên trang MyAnimeList (MAL)|\n",
    "| **`Vote`**             | Số lượng độc giả đã tham gia bình chọn và đánh giá cho bộ truyện. |\n",
    "| **`Ranked`**           | Thứ hạng của bộ truyện trên MyAnimeList |\n",
    "| **`Popularity`**       | Mức độ phổ biến của bộ truyện  |\n",
    "| **`Members`**          | Số lượng độc giả đã thêm bộ truyện này vào danh sách cá nhân|\n",
    "| **`Favorite`**         | Số lượng độc giả đã thêm bộ truyện này vào danh sách yêu thích|\n",
    "| **`Type`**\t\t        | Loại hình của tác phẩm (Manga, Light Novel,...)|\n",
    "| **`Volumes`**          | Tổng số tập của bộ truyện. Một tập thường bao gồm một hoặc nhiều chương truyện. |\n",
    "| **`Chapters`**         | Tổng số chương truyện của bộ truyện. |\n",
    "| **`Status`**           | Trạng thái hiện tại của bộ truyện (Publishing, Finished,...) |\n",
    "| **`Published`**        | Thời gian phát hành của bộ truyện, bao gồm ngày bắt đầu và ngày kết thúc. |\n",
    "| **`Genres`**           | Thể loại của bộ truyện. |\n",
    "| **`Themes`**           | Chủ đề của bộ truyện. |\n",
    "| **`Demographic`** \t    | Đối tượng độc giả mà bộ truyện hướng đến. |\n",
    "| **`Serialization`** \t| Thông tin về tạp chí hoặc nền tảng phát hành bộ truyện|\n",
    "| **`Author`**           | Tên tác giả của bộ truyện. |\n",
    "| **`Total Review`**     | Tổng số lượng độc giả đã để lại nhận xét hoặc đánh giá cho bộ truyện. |\n",
    "| **`Type Review`**      | Số lượng nhận xét của độc giả thành từng nhóm cụ thể: \"Recommended\", \"Mixed feeling\", và \"Not recommended\". |"
   ]
  },
  {
   "cell_type": "markdown",
   "metadata": {
    "id": "MqOJuxN95nfO"
   },
   "source": [
    "## 2. IMPORT THƯ VIỆN"
   ]
  },
  {
   "cell_type": "markdown",
   "metadata": {
    "id": "YtcSIf215q0m"
   },
   "source": [
    "**Đây là những thư viện được dùng cho Data Collecting**\n",
    "\n",
    "- **`requests`**: Được sử dụng để gửi yêu cầu HTTP đến trang web và lấy nội dung HTML.  \n",
    "\n",
    "- **`HTMLSession`**: Được sử dụng để lấy nội dung HTML của các trang web động (các trang sử dụng JavaScript để hiển thị nội dung).  \n",
    "\n",
    "- **`BeautifulSoup`**: Được sử dụng để phân tích mã HTML và trích xuất dữ liệu từ nội dung HTML.  \n",
    "\n",
    "- **`re`**: Được sử dụng để khớp mẫu và trích xuất dữ liệu từ nội dung HTML bằng biểu thức chính quy.  \n",
    "\n",
    "- **`nest_asyncio`**: Cho phép sử dụng mã bất đồng bộ trong Jupyter Notebook, giải quyết các vấn đề tương thích với **asyncio**.  \n",
    "\n",
    "- **`pandas`**: Được sử dụng để tổ chức và xử lý dữ liệu đã trích xuất, tạo thành **DataFrame** có cấu trúc dữ liệu dạng bảng.  \n",
    "\n",
    "- **`time`**: Được sử dụng để tạm dừng việc thực thi mã trong một khoảng thời gian nhất định.  \n",
    "\n",
    "---\n",
    "\n",
    "Nếu không thực hiện import được toàn bộ thư viện ở trên, nên cài đặt các gói sau để có thể import được các thư viện:\n",
    "```python\n",
    "!pip install requests-html\n",
    "!pip install lxml_html_clean\n",
    "```"
   ]
  },
  {
   "cell_type": "code",
   "execution_count": 2,
   "metadata": {
    "colab": {
     "base_uri": "https://localhost:8080/",
     "height": 400
    },
    "execution": {
     "iopub.execute_input": "2024-12-17T10:21:36.745554Z",
     "iopub.status.busy": "2024-12-17T10:21:36.745138Z",
     "iopub.status.idle": "2024-12-17T10:21:37.482895Z",
     "shell.execute_reply": "2024-12-17T10:21:37.481825Z",
     "shell.execute_reply.started": "2024-12-17T10:21:36.745517Z"
    },
    "id": "9ljvnluD7ZE-",
    "outputId": "6b191645-a76f-4ed8-a56e-a10c1d7e0c3e",
    "trusted": true
   },
   "outputs": [],
   "source": [
    "import requests\n",
    "from requests_html import HTMLSession\n",
    "from bs4 import BeautifulSoup\n",
    "import re\n",
    "import nest_asyncio\n",
    "import pandas as pd\n",
    "import time"
   ]
  },
  {
   "cell_type": "code",
   "execution_count": 3,
   "metadata": {
    "execution": {
     "iopub.execute_input": "2024-12-17T10:21:39.943029Z",
     "iopub.status.busy": "2024-12-17T10:21:39.942449Z",
     "iopub.status.idle": "2024-12-17T10:21:39.948752Z",
     "shell.execute_reply": "2024-12-17T10:21:39.947575Z",
     "shell.execute_reply.started": "2024-12-17T10:21:39.942992Z"
    },
    "id": "v_Ih5Mv67j-l",
    "trusted": true
   },
   "outputs": [],
   "source": [
    "nest_asyncio.apply() # Cho phép một vòng lặp sự kiện đang chạy chấp nhận các vòng lặp con.\n",
    "session = HTMLSession() # Render JavaScript hoặc xử lý nội dung động của trang web (comment...)"
   ]
  },
  {
   "cell_type": "markdown",
   "metadata": {
    "id": "ESkJ9DUR5d62"
   },
   "source": [
    "## 3. THU THẬP DỮ LIỆU"
   ]
  },
  {
   "cell_type": "markdown",
   "metadata": {
    "id": "DYiTEHkS5d62"
   },
   "source": [
    "### 3.1. Thu thập URLs của các bộ truyện"
   ]
  },
  {
   "cell_type": "markdown",
   "metadata": {
    "id": "hwN1E_ec5d62"
   },
   "source": [
    "**Để thu thập URLs của các bộ truyện, nhóm thực hiện các bước sau:**\n",
    "\n",
    "1. Gửi yêu cầu **GET** đến trang [All Manga trên MyAnimeList](https://myanimelist.net/topmanga.php?limit=0) để lấy nội dung **HTML** của trang.\n",
    "\n",
    "2. Sử dụng thư viện **`BeautifulSoup`** để phân tích cú pháp nội dung **HTML** đã thu thập được.\n",
    "\n",
    "3. Duyệt qua nội dung **HTML** và tìm tất cả các URL liên quan đến truyện trong danh sách xếp hạng.\n",
    "\n",
    "4. Lưu các URL đã trích xuất vào một danh sách.\n",
    "\n",
    "5. Lặp lại quá trình này, tăng giá trị của tham số **`limit`** thêm $50$ đơn vị sau mỗi lần gửi yêu cầu, cho đến khi **`limit`** đạt giá trị $5000$.\n",
    "\n",
    "---\n",
    "**Khó khăn và cách giải quyết:**\n",
    "\n",
    "Để tránh việc kết nối bị gián đoạn do gửi quá nhiều yêu cầu đến trang web cùng một lúc, nhóm sẽ thực hiện dùng 4 file `data_collecting` có nội dung tương tự để thu thập với tương ứng $5000$ bộ truyện mỗi file theo thứ tự bảng xếp hạng ($1 - 5000$, $5001 - 10000$, $10001 - 15000$, $15001 - 20000$).\n",
    "\n",
    "Việc chia nhỏ giúp giảm thiểu rủi ro bị chặn hoặc hạn chế truy cập từ trang web.\n",
    "\n",
    "---\n",
    "\n",
    "**Lưu ý:**\n",
    "\n",
    "Trong file này, nhóm chỉ thu thập đại diện $5000$ urls của các bộ truyện xếp hạng $1 - 5000$ trên trang [All Manga trên MyAnimeList](https://myanimelist.net/topmanga.php?limit=0). Các phần dữ liệu khác được thu thập tương tự và cuối cùng dữ liệu của các phần được ghép lại bằng file `merge_manga.py`"
   ]
  },
  {
   "cell_type": "code",
   "execution_count": 4,
   "metadata": {
    "execution": {
     "iopub.execute_input": "2024-12-17T10:21:47.774138Z",
     "iopub.status.busy": "2024-12-17T10:21:47.773208Z",
     "iopub.status.idle": "2024-12-17T10:22:36.530361Z",
     "shell.execute_reply": "2024-12-17T10:22:36.529229Z",
     "shell.execute_reply.started": "2024-12-17T10:21:47.774098Z"
    },
    "id": "RDJvtqS75d64",
    "outputId": "0e317f0c-a4f9-4573-c731-ced9677ce18f",
    "trusted": true
   },
   "outputs": [
    {
     "name": "stdout",
     "output_type": "stream",
     "text": [
      "5000 urls collected\r"
     ]
    }
   ],
   "source": [
    "listUrl = []\n",
    "\n",
    "# Thu thập dữ liệu của 5000 bộ truyện\n",
    "for i in range(0, 5000, 50):\n",
    "    # Url của trang web cần cào\n",
    "    url = f'https://myanimelist.net/topmanga.php?limit={i}'\n",
    "\n",
    "    # Lấy nội dung HTML\n",
    "    html = requests.get(url).text\n",
    "\n",
    "    # Parse nội dung HTML\n",
    "    soup = BeautifulSoup(html, \"html.parser\")\n",
    "\n",
    "    # Lấy danh sách các truyện\n",
    "    listItem = soup.find_all(\"td\", {\"class\": \"title al va-t clearfix word-break\"})\n",
    "\n",
    "    # Lấy url của từng bộ truyện\n",
    "    for item in listItem:\n",
    "        listUrl.append(item.find('a').get('href'))\n",
    "\n",
    "    # In số lượng truyện đã được thu thập\n",
    "    print(f'{len(listUrl)} urls collected', end='\\r', flush=True)"
   ]
  },
  {
   "cell_type": "code",
   "execution_count": 5,
   "metadata": {
    "execution": {
     "iopub.execute_input": "2024-12-17T10:22:39.869468Z",
     "iopub.status.busy": "2024-12-17T10:22:39.869062Z",
     "iopub.status.idle": "2024-12-17T10:22:39.874706Z",
     "shell.execute_reply": "2024-12-17T10:22:39.873721Z",
     "shell.execute_reply.started": "2024-12-17T10:22:39.869433Z"
    },
    "id": "rG21GboE5d64",
    "outputId": "9bcc0f4b-2783-427c-c84e-0e6fc497585b",
    "trusted": true
   },
   "outputs": [
    {
     "name": "stdout",
     "output_type": "stream",
     "text": [
      "Tổng: 5000 urls\n"
     ]
    }
   ],
   "source": [
    "print(f'Tổng: {len(listUrl)} urls')"
   ]
  },
  {
   "cell_type": "markdown",
   "metadata": {},
   "source": [
    "Lưu các **urls** trong một file .txt để kiểm tra"
   ]
  },
  {
   "cell_type": "code",
   "execution_count": 7,
   "metadata": {
    "execution": {
     "iopub.execute_input": "2024-12-17T10:22:47.282481Z",
     "iopub.status.busy": "2024-12-17T10:22:47.282056Z",
     "iopub.status.idle": "2024-12-17T10:22:47.291144Z",
     "shell.execute_reply": "2024-12-17T10:22:47.289892Z",
     "shell.execute_reply.started": "2024-12-17T10:22:47.282444Z"
    },
    "trusted": true
   },
   "outputs": [],
   "source": [
    "with open(\"./link_collecting.txt\", \"w\") as file:\n",
    "    file.writelines(item + \"\\n\" for item in listUrl)"
   ]
  },
  {
   "cell_type": "markdown",
   "metadata": {
    "id": "XGPmTyAe_atR"
   },
   "source": [
    "### 3.2. Thu thập nội dung HTML cho từng bộ truyện"
   ]
  },
  {
   "cell_type": "markdown",
   "metadata": {
    "id": "GmPS02R_5d64"
   },
   "source": [
    "**Để thu thập nội dung HTML cho từng bộ truyện, nhóm thực hiện các bước sau**\n",
    "\n",
    "1. Từ mỗi URL đã thu thập ở bước trước, gửi yêu cầu **GET** để lấy nội dung **HTML** của trang.  \n",
    "2. Nếu độ dài của nội dung **HTML** nhỏ hơn **4000**, tạm dừng **200 giây** và gửi lại yêu cầu **GET**. Điều này xảy ra do trang web chặn kết nối, vì thế cần đợi một khoảng thời gian trước khi gửi yêu cầu trở lại.  \n",
    "3. Lưu nội dung **HTML** vào một danh sách để phân tích sau."
   ]
  },
  {
   "cell_type": "code",
   "execution_count": 8,
   "metadata": {
    "execution": {
     "iopub.execute_input": "2024-12-17T10:23:14.643312Z",
     "iopub.status.busy": "2024-12-17T10:23:14.642929Z",
     "iopub.status.idle": "2024-12-17T11:39:58.359809Z",
     "shell.execute_reply": "2024-12-17T11:39:58.358680Z",
     "shell.execute_reply.started": "2024-12-17T10:23:14.643277Z"
    },
    "id": "nfC4y0Ja5d64",
    "outputId": "21cfda55-4e01-4880-9bee-a419b3725ed4",
    "trusted": true
   },
   "outputs": [
    {
     "name": "stdout",
     "output_type": "stream",
     "text": [
      "5000/5000 manga html collected\r"
     ]
    }
   ],
   "source": [
    "listHtml = []\n",
    "\n",
    "for url in listUrl[0:5000]:\n",
    "    res = session.get(url)\n",
    "    while len(res.text) < 4000:\n",
    "        # Tạm dừng 200 giây\n",
    "        time.sleep(200)\n",
    "        res = session.get(url)\n",
    "\n",
    "    listHtml.append(res.text)\n",
    "\n",
    "    # In ra số lượng HTML đã thu thập\n",
    "    print(f'{len(listHtml)}/{len(listUrl)} manga html collected', end='\\r', flush=True)"
   ]
  },
  {
   "cell_type": "code",
   "execution_count": 9,
   "metadata": {
    "execution": {
     "iopub.execute_input": "2024-12-17T11:40:06.595206Z",
     "iopub.status.busy": "2024-12-17T11:40:06.594812Z",
     "iopub.status.idle": "2024-12-17T11:40:06.600727Z",
     "shell.execute_reply": "2024-12-17T11:40:06.599701Z",
     "shell.execute_reply.started": "2024-12-17T11:40:06.595171Z"
    },
    "id": "O-cUiPyU5d65",
    "outputId": "b15fd82f-8d2b-48aa-8ee0-7c7d6ededd38",
    "trusted": true
   },
   "outputs": [
    {
     "name": "stdout",
     "output_type": "stream",
     "text": [
      "Tổng: 5000 manga đã thu thập html\n"
     ]
    }
   ],
   "source": [
    "print(f'Tổng: {len(listHtml)} manga đã thu thập html')"
   ]
  },
  {
   "cell_type": "markdown",
   "metadata": {
    "id": "Bk1yU6HhE-R0"
   },
   "source": [
    "### 3.3. Thu thập dữ liệu cho từng bộ truyện"
   ]
  },
  {
   "cell_type": "markdown",
   "metadata": {
    "id": "MFg6Bia5FF7a"
   },
   "source": [
    "1. **Phân tích nội dung HTML:**  \n",
    "   Hàm bắt đầu bằng cách sử dụng **BeautifulSoup** để phân tích cú pháp nội dung **HTML** của từng trang nội dung truyện.\n",
    "\n",
    "2. **Trích xuất tiêu đề:**  \n",
    "   - Tiêu đề của truyện được trích xuất bằng câu lệnh `soup.find('span', {'itemprop': 'name'})`.  \n",
    "   - Nếu không tìm thấy tiêu đề (tức giá trị trả về là `None`), hàm sẽ trả về **None** để chỉ ra rằng thông tin không thể được trích xuất.\n",
    "\n",
    "3. **Xử lý tiêu đề tiếng Anh (title-english):**  \n",
    "   - Nếu tiêu đề tiếng Anh có mặt (được chỉ định bằng phần tử `title-english`), nó sẽ được trích xuất và loại bỏ khỏi tiêu đề chính.  \n",
    "   - Tiêu đề kết quả sẽ là sự kết hợp giữa tiêu đề gốc và tiêu đề tiếng Anh, được đặt trong dấu ngoặc đơn.\n",
    "\n",
    "4. **Trích xuất thông tin về xếp hạng và mức độ phổ biến:**  \n",
    "   - Thông tin đánh giá được trích xuất bằng cách sử dụng:  \n",
    "     - `Score`: `soup.find('span', {'itemprop': 'ratingValue'}).text`\n",
    "     - `Vote`: `soup.find('span', {'itemprop': 'ratingCount'}).text`\n",
    "     - `Ranked`: `soup.find('span', {'class': 'numbers ranked'}).text`\n",
    "     - `Popularity`: `soup.find('span', {'class': 'numbers popularity'}).text`\n",
    "\n",
    "5. **Lặp qua các phần thông tin:**  \n",
    "   - Hàm duyệt qua các phần thông tin của trang truyện, được biểu diễn bằng các phần tử `div` với class `'spaceit_pad'`.\n",
    "\n",
    "6. **Trích xuất chi tiết truyện:**  \n",
    "   - Với mỗi phần, hàm sẽ kiểm tra nội dung và trích xuất các thông tin như:  \n",
    "     `Type`, `Volumes`, `Chapters`, `Status`, `Published`, `Genres`, `Themes`, `Demographics`, `Serialization`, `Authors`, `Favorites`, và `Members`. \n",
    "   - Thông tin trích xuất được lưu vào các biến tương ứng.\n",
    "\n",
    "8. **Trích xuất thông tin đánh giá:**  \n",
    "   - Hàm tiếp tục chuyển sang phần `'manga-info-review__header mal-navbar'` để trích xuất thông tin liên quan đến đánh giá.  \n",
    "   - Nó sẽ lấy tổng số lượng đánh giá và số lượng đánh giá cho từng loại: `Recommended`, `Mixed feelings`, và `Not recommended`.\n",
    "\n",
    "9. **Trả về một từ điển:**  \n",
    "   - Hàm tổng hợp tất cả thông tin đã trích xuất vào một `dictionary` và chuyển thành `DataFrame` để lưu trữ dữ liệu có cấu trúc.  "
   ]
  },
  {
   "cell_type": "code",
   "execution_count": 10,
   "metadata": {
    "execution": {
     "iopub.execute_input": "2024-12-17T11:40:14.785147Z",
     "iopub.status.busy": "2024-12-17T11:40:14.784775Z",
     "iopub.status.idle": "2024-12-17T11:46:42.907246Z",
     "shell.execute_reply": "2024-12-17T11:46:42.906235Z",
     "shell.execute_reply.started": "2024-12-17T11:40:14.785112Z"
    },
    "id": "2nVg6Kfb5d65",
    "outputId": "19d9b522-2c99-4a50-fcd3-8567b4128213",
    "trusted": true
   },
   "outputs": [
    {
     "name": "stdout",
     "output_type": "stream",
     "text": [
      "Đã xử lý 5000/5000 phần tử.\r"
     ]
    }
   ],
   "source": [
    "def extract_info(htmlComic):\n",
    "    # Phân tích nội dung HTML\n",
    "    soup = BeautifulSoup(htmlComic, \"html.parser\")\n",
    "\n",
    "    # Lấy tên bộ truyện\n",
    "    title = soup.find('span', {'itemprop': 'name'})\n",
    "    if title is None:\n",
    "        return None\n",
    "    else:\n",
    "        title_text = title.text.strip()\n",
    "        title_english_span = title.find('span', {'class': 'title-english'})\n",
    "\n",
    "        if title_english_span is not None:\n",
    "            title_english_text = title_english_span.text.strip()\n",
    "            title_text = title_text.replace(title_english_text, '')\n",
    "            title = f'{title_text} ({title_english_text})'\n",
    "        else:\n",
    "            title = title_text\n",
    "\n",
    "    # Lấy các giá trị Score, Vote, Ranked và Popularity\n",
    "    ratingValue_tag = soup.find('span', {'itemprop': 'ratingValue'})\n",
    "    ratingValue = ratingValue_tag.text.strip() if ratingValue_tag else None\n",
    "\n",
    "    ratingCount_tag = soup.find('span', {'itemprop': 'ratingCount'})\n",
    "    ratingCount = ratingCount_tag.text.strip() if ratingCount_tag else None\n",
    "\n",
    "    ranked_tag = soup.find('span', {'class': 'numbers ranked'})\n",
    "    if ranked_tag:\n",
    "        ranked_numbers = re.findall(r'\\d+', ranked_tag.text)\n",
    "        ranked = ranked_numbers[0] if ranked_numbers else None\n",
    "    else:\n",
    "        ranked = None\n",
    "        \n",
    "    popularity = re.findall(r'\\d+', soup.find('span', {'class': 'numbers popularity'}).text)[0]\n",
    "\n",
    "    # Lấy các thông tin liên quan bộ truyện\n",
    "    volumes, chapters, status, published = '', '', '', ''\n",
    "    genres, themes, authors, favorites, members = [], [], '', '', ''\n",
    "    type_, demographic, serialization = '', '', ''\n",
    "\n",
    "    for space in soup.find_all(\"div\", {'class': 'spaceit_pad'}):\n",
    "        text = space.text.strip()\n",
    "\n",
    "        if 'Type:' in text:\n",
    "            type_ = text.split(':', 1)[1].strip()\n",
    "        elif 'Volumes:' in text:\n",
    "            volumes = text.split(':', 1)[1].strip()\n",
    "        elif 'Chapters:' in text:\n",
    "            chapters = text.split(':', 1)[1].strip()\n",
    "        elif 'Status:' in text:\n",
    "            # Lấy nội dung sau thẻ <span class=\"dark_text\">\n",
    "            status = space.find('span', {'class': 'dark_text'}).next_sibling.strip()\n",
    "        elif 'Published:' in text:\n",
    "            published = text.split(':', 1)[1].strip()\n",
    "        elif 'Genres:' in text or 'Genre:' in text:\n",
    "            genres = [gen.text.strip() for gen in space.find_all('a')]\n",
    "        elif 'Themes:' in text or 'Theme:' in text:\n",
    "            # Lấy cả giá trị từ <a> và <span itemprop=\"genre\">\n",
    "            themes = [theme.text.strip() for theme in space.find_all('a')]\n",
    "        elif 'Demographic:' in text or 'Demographics:' in text:\n",
    "            demographic = space.find('a').text.strip()\n",
    "        elif 'Serialization:' in text or 'Serializations:' in text:\n",
    "            serialization_tag = space.find('a')  # Tìm thẻ <a>\n",
    "            serialization = serialization_tag.text.strip() if serialization_tag else ''  # Kiểm tra nếu không tìm thấy\n",
    "        elif 'Authors:' in text or 'Author:' in text:\n",
    "            authors = text.split(':')[1].strip()\n",
    "        elif 'Favorites:' in text:\n",
    "            favorites = text.split(':', 1)[1].strip()\n",
    "        elif 'Members:' in text:\n",
    "            members = text.split(':', 1)[1].strip()\n",
    "\n",
    "    # Lấy các thông tin về Reviews\n",
    "    infoReviews = soup.find('div', {'class': 'manga-info-review__header mal-navbar'})\n",
    "    totalReviews = re.findall(r'\\d+', infoReviews.find('div', {'class': 'right'}).text)[0]\n",
    "\n",
    "    typeReview = [\n",
    "        int(re.findall(r'\\d+', infoReviews.find('div', {'class': 'recommended'}).text)[0]),\n",
    "        int(re.findall(r'\\d+', infoReviews.find('div', {'class': 'mixed-feelings'}).text)[0]),\n",
    "        int(re.findall(r'\\d+', infoReviews.find('div', {'class': 'not-recommended'}).text)[0])\n",
    "    ]\n",
    "\n",
    "    # Trả về kết quả thu thập\n",
    "    return {\n",
    "        \"Title\": title, \"Score\": ratingValue, \"Vote\": ratingCount,\n",
    "        \"Ranked\": ranked, \"Popularity\": popularity, \"Members\": members,\n",
    "        \"Favorite\": favorites, \"Types\": type_, \"Volumes\": volumes,\n",
    "        \"Chapters\": chapters, \"Status\": status, \"Published\": published,\n",
    "        \"Genres\": genres, \"Themes\": themes, \"Demographic\": demographic, \"Serialization\": serialization,\n",
    "        \"Author\": authors, \"Total Review\": totalReviews, \"Type Review\": typeReview\n",
    "    }\n",
    "\n",
    "data_list = []\n",
    "for idx, htmlComic in enumerate(listHtml, start=1):\n",
    "    result = extract_info(htmlComic)\n",
    "    if result is not None:\n",
    "        data_list.append(result)\n",
    "    # In trạng thái sau khi duyệt mỗi phần tử\n",
    "    print(f\"Đã xử lý {idx}/{len(listHtml)} phần tử.\", end='\\r', flush=True)\n",
    "\n",
    "df = pd.DataFrame(data_list)"
   ]
  },
  {
   "cell_type": "markdown",
   "metadata": {},
   "source": [
    "Kiểm tra lại bộ dữ liệu sau khi thu thập xong"
   ]
  },
  {
   "cell_type": "code",
   "execution_count": 11,
   "metadata": {
    "execution": {
     "iopub.execute_input": "2024-12-17T11:46:46.553476Z",
     "iopub.status.busy": "2024-12-17T11:46:46.553117Z",
     "iopub.status.idle": "2024-12-17T11:46:46.592347Z",
     "shell.execute_reply": "2024-12-17T11:46:46.591305Z",
     "shell.execute_reply.started": "2024-12-17T11:46:46.553444Z"
    },
    "id": "5jlIB5wH5d66",
    "outputId": "301c9725-f1bd-49c8-82ce-d9bc8088ce11",
    "trusted": true
   },
   "outputs": [
    {
     "data": {
      "text/html": [
       "<div>\n",
       "<style scoped>\n",
       "    .dataframe tbody tr th:only-of-type {\n",
       "        vertical-align: middle;\n",
       "    }\n",
       "\n",
       "    .dataframe tbody tr th {\n",
       "        vertical-align: top;\n",
       "    }\n",
       "\n",
       "    .dataframe thead th {\n",
       "        text-align: right;\n",
       "    }\n",
       "</style>\n",
       "<table border=\"1\" class=\"dataframe\">\n",
       "  <thead>\n",
       "    <tr style=\"text-align: right;\">\n",
       "      <th></th>\n",
       "      <th>Title</th>\n",
       "      <th>Score</th>\n",
       "      <th>Vote</th>\n",
       "      <th>Ranked</th>\n",
       "      <th>Popularity</th>\n",
       "      <th>Members</th>\n",
       "      <th>Favorite</th>\n",
       "      <th>Types</th>\n",
       "      <th>Volumes</th>\n",
       "      <th>Chapters</th>\n",
       "      <th>Status</th>\n",
       "      <th>Published</th>\n",
       "      <th>Genres</th>\n",
       "      <th>Themes</th>\n",
       "      <th>Demographic</th>\n",
       "      <th>Serialization</th>\n",
       "      <th>Author</th>\n",
       "      <th>Total Review</th>\n",
       "      <th>Type Review</th>\n",
       "    </tr>\n",
       "  </thead>\n",
       "  <tbody>\n",
       "    <tr>\n",
       "      <th>0</th>\n",
       "      <td>Berserk</td>\n",
       "      <td>9.47</td>\n",
       "      <td>365660</td>\n",
       "      <td>1</td>\n",
       "      <td>1</td>\n",
       "      <td>728,752</td>\n",
       "      <td>130,949</td>\n",
       "      <td>Manga</td>\n",
       "      <td>Unknown</td>\n",
       "      <td>Unknown</td>\n",
       "      <td>Publishing</td>\n",
       "      <td>Aug  25, 1989 to ?</td>\n",
       "      <td>[Action, Adventure, Award Winning, Drama, Fant...</td>\n",
       "      <td>[Gore, Military, Mythology, Psychological]</td>\n",
       "      <td>Seinen</td>\n",
       "      <td>Young Animal</td>\n",
       "      <td>Miura, Kentarou (Story &amp; Art), Studio Gaga (Art)</td>\n",
       "      <td>290</td>\n",
       "      <td>[252, 18, 20]</td>\n",
       "    </tr>\n",
       "    <tr>\n",
       "      <th>1</th>\n",
       "      <td>JoJo no Kimyou na Bouken Part 7: Steel Ball Ru...</td>\n",
       "      <td>9.32</td>\n",
       "      <td>173361</td>\n",
       "      <td>2</td>\n",
       "      <td>23</td>\n",
       "      <td>282,197</td>\n",
       "      <td>46,494</td>\n",
       "      <td>Manga</td>\n",
       "      <td>24</td>\n",
       "      <td>96</td>\n",
       "      <td>Finished</td>\n",
       "      <td>Jan  19, 2004 to Apr  19, 2011</td>\n",
       "      <td>[Action, Adventure, Mystery, Supernatural]</td>\n",
       "      <td>[Historical]</td>\n",
       "      <td>Seinen</td>\n",
       "      <td>Ultra Jump</td>\n",
       "      <td>Araki, Hirohiko (Story &amp; Art)</td>\n",
       "      <td>131</td>\n",
       "      <td>[123, 7, 1]</td>\n",
       "    </tr>\n",
       "    <tr>\n",
       "      <th>2</th>\n",
       "      <td>Vagabond</td>\n",
       "      <td>9.26</td>\n",
       "      <td>155702</td>\n",
       "      <td>3</td>\n",
       "      <td>13</td>\n",
       "      <td>408,736</td>\n",
       "      <td>44,513</td>\n",
       "      <td>Manga</td>\n",
       "      <td>37</td>\n",
       "      <td>327</td>\n",
       "      <td>On Hiatus</td>\n",
       "      <td>Sep  3, 1998 to May  21, 2015</td>\n",
       "      <td>[Action, Adventure, Award Winning]</td>\n",
       "      <td>[Historical, Samurai]</td>\n",
       "      <td>Seinen</td>\n",
       "      <td>Morning</td>\n",
       "      <td>Inoue, Takehiko (Story &amp; Art), Yoshikawa, Eiji...</td>\n",
       "      <td>103</td>\n",
       "      <td>[92, 9, 2]</td>\n",
       "    </tr>\n",
       "    <tr>\n",
       "      <th>3</th>\n",
       "      <td>One Piece</td>\n",
       "      <td>9.22</td>\n",
       "      <td>394276</td>\n",
       "      <td>4</td>\n",
       "      <td>4</td>\n",
       "      <td>645,155</td>\n",
       "      <td>120,308</td>\n",
       "      <td>Manga</td>\n",
       "      <td>Unknown</td>\n",
       "      <td>Unknown</td>\n",
       "      <td>Publishing</td>\n",
       "      <td>Jul  22, 1997 to ?</td>\n",
       "      <td>[Action, Adventure, Fantasy]</td>\n",
       "      <td>[]</td>\n",
       "      <td>Shounen</td>\n",
       "      <td>Shounen Jump (Weekly)</td>\n",
       "      <td>Oda, Eiichiro (Story &amp; Art)</td>\n",
       "      <td>231</td>\n",
       "      <td>[191, 21, 19]</td>\n",
       "    </tr>\n",
       "    <tr>\n",
       "      <th>4</th>\n",
       "      <td>Monster</td>\n",
       "      <td>9.16</td>\n",
       "      <td>104979</td>\n",
       "      <td>5</td>\n",
       "      <td>29</td>\n",
       "      <td>260,027</td>\n",
       "      <td>22,125</td>\n",
       "      <td>Manga</td>\n",
       "      <td>18</td>\n",
       "      <td>162</td>\n",
       "      <td>Finished</td>\n",
       "      <td>Dec  5, 1994 to Dec  20, 2001</td>\n",
       "      <td>[Award Winning, Drama, Mystery]</td>\n",
       "      <td>[Adult Cast, Psychological]</td>\n",
       "      <td>Seinen</td>\n",
       "      <td>Big Comic Original</td>\n",
       "      <td>Urasawa, Naoki (Story &amp; Art)</td>\n",
       "      <td>86</td>\n",
       "      <td>[69, 11, 6]</td>\n",
       "    </tr>\n",
       "  </tbody>\n",
       "</table>\n",
       "</div>"
      ],
      "text/plain": [
       "                                               Title Score    Vote Ranked  \\\n",
       "0                                            Berserk  9.47  365660      1   \n",
       "1  JoJo no Kimyou na Bouken Part 7: Steel Ball Ru...  9.32  173361      2   \n",
       "2                                           Vagabond  9.26  155702      3   \n",
       "3                                          One Piece  9.22  394276      4   \n",
       "4                                            Monster  9.16  104979      5   \n",
       "\n",
       "  Popularity  Members Favorite  Types  Volumes Chapters      Status  \\\n",
       "0          1  728,752  130,949  Manga  Unknown  Unknown  Publishing   \n",
       "1         23  282,197   46,494  Manga       24       96    Finished   \n",
       "2         13  408,736   44,513  Manga       37      327   On Hiatus   \n",
       "3          4  645,155  120,308  Manga  Unknown  Unknown  Publishing   \n",
       "4         29  260,027   22,125  Manga       18      162    Finished   \n",
       "\n",
       "                        Published  \\\n",
       "0              Aug  25, 1989 to ?   \n",
       "1  Jan  19, 2004 to Apr  19, 2011   \n",
       "2   Sep  3, 1998 to May  21, 2015   \n",
       "3              Jul  22, 1997 to ?   \n",
       "4   Dec  5, 1994 to Dec  20, 2001   \n",
       "\n",
       "                                              Genres  \\\n",
       "0  [Action, Adventure, Award Winning, Drama, Fant...   \n",
       "1         [Action, Adventure, Mystery, Supernatural]   \n",
       "2                 [Action, Adventure, Award Winning]   \n",
       "3                       [Action, Adventure, Fantasy]   \n",
       "4                    [Award Winning, Drama, Mystery]   \n",
       "\n",
       "                                       Themes Demographic  \\\n",
       "0  [Gore, Military, Mythology, Psychological]      Seinen   \n",
       "1                                [Historical]      Seinen   \n",
       "2                       [Historical, Samurai]      Seinen   \n",
       "3                                          []     Shounen   \n",
       "4                 [Adult Cast, Psychological]      Seinen   \n",
       "\n",
       "           Serialization                                             Author  \\\n",
       "0           Young Animal   Miura, Kentarou (Story & Art), Studio Gaga (Art)   \n",
       "1             Ultra Jump                      Araki, Hirohiko (Story & Art)   \n",
       "2                Morning  Inoue, Takehiko (Story & Art), Yoshikawa, Eiji...   \n",
       "3  Shounen Jump (Weekly)                        Oda, Eiichiro (Story & Art)   \n",
       "4     Big Comic Original                       Urasawa, Naoki (Story & Art)   \n",
       "\n",
       "  Total Review    Type Review  \n",
       "0          290  [252, 18, 20]  \n",
       "1          131    [123, 7, 1]  \n",
       "2          103     [92, 9, 2]  \n",
       "3          231  [191, 21, 19]  \n",
       "4           86    [69, 11, 6]  "
      ]
     },
     "execution_count": 11,
     "metadata": {},
     "output_type": "execute_result"
    }
   ],
   "source": [
    "df.head()"
   ]
  },
  {
   "cell_type": "markdown",
   "metadata": {},
   "source": [
    "### 3.4. Lưu dữ liệu với tên `raw_manga.csv`"
   ]
  },
  {
   "cell_type": "code",
   "execution_count": 12,
   "metadata": {
    "execution": {
     "iopub.execute_input": "2024-12-17T11:46:54.940232Z",
     "iopub.status.busy": "2024-12-17T11:46:54.939719Z",
     "iopub.status.idle": "2024-12-17T11:46:55.037942Z",
     "shell.execute_reply": "2024-12-17T11:46:55.036795Z",
     "shell.execute_reply.started": "2024-12-17T11:46:54.940182Z"
    },
    "id": "7f5cO8aY5d66",
    "trusted": true
   },
   "outputs": [],
   "source": [
    "df.to_csv('./raw_manga.csv', encoding='utf-8-sig', index=False)"
   ]
  }
 ],
 "metadata": {
  "colab": {
   "provenance": [],
   "toc_visible": true
  },
  "kaggle": {
   "accelerator": "none",
   "dataSources": [],
   "dockerImageVersionId": 30804,
   "isGpuEnabled": false,
   "isInternetEnabled": true,
   "language": "python",
   "sourceType": "notebook"
  },
  "kernelspec": {
   "display_name": "Python 3",
   "language": "python",
   "name": "python3"
  },
  "language_info": {
   "codemirror_mode": {
    "name": "ipython",
    "version": 3
   },
   "file_extension": ".py",
   "mimetype": "text/x-python",
   "name": "python",
   "nbconvert_exporter": "python",
   "pygments_lexer": "ipython3",
   "version": "3.12.1"
  }
 },
 "nbformat": 4,
 "nbformat_minor": 4
}
