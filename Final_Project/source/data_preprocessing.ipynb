{
 "cells": [
  {
   "cell_type": "markdown",
   "metadata": {},
   "source": [
    "# **Data Preprocessing**"
   ]
  },
  {
   "cell_type": "markdown",
   "metadata": {},
   "source": [
    "---"
   ]
  },
  {
   "cell_type": "markdown",
   "metadata": {},
   "source": [
    "<div class=\"list-group\" id=\"list-tab\" role=\"tablist\">\n",
    "\n",
    "## MỤC LỤC:\n",
    "- [1. IMPORT THƯ VIỆN](#1)\n",
    "\n",
    "- [2. RELATIVE PATHS](#2)\n",
    " \n",
    "- [3. ĐỌC DỮ LIỆU TRONG FILE `anime-dataset-2023.csv`](#3)\n",
    "    - [3.1 Số dòng và số cột của bộ dữ liệu](#3.1)\n",
    "    - [3.2 Ý nghĩa của các hàng và các cột](#3.2)\n",
    "    - [2.3. KIỂU DỮ LIỆU CỦA CÁC THUỘC TÍNH](#2.3)\n",
    "        - [Kiểm tra kiểu dữ liệu hiện tại của các thuộc tính](#2.3.1)\n",
    "        - [Thay đổi kiểu dữ liệu các thuộc tính](#2.3.2)\n",
    "\n",
    "- [4. LOẠI BỎ CÁC CỘT KHÔNG CÓ GIÁ TRỊ SỬ DỤNG](#4)\n",
    "\n",
    "- [5. KIỂM TRA DỮ LIỆU BỊ TRÙNG](#5)\n",
    "\n",
    "- [6. XEM XÉT VÀ PHÂN TÍCH CÁC THUỘC TÍNH LIÊN QUAN ĐẾN BỘ DỮ LIỆU](#6)\n",
    "    - [6.1. Kiểm tra các giá trị `UNKNOWN`](#6.1)\n",
    "    - [6.2. Xem xét các giá trị `UNKNOWN` trong `Score`](#6.2)\n",
    "    - [6.3. Loại bỏ các giá trị `UNKNOWN` trong cột `Genres`](#6.3)\n",
    "    - [6.4. Xem xét các giá trị `UNKNOWN` của cột `Type`](#6.4)\n",
    "    - [6.5. Điều chỉnh giá trị của cột `Duration`](#6.5)\n",
    "    - [6.6. Điều chỉnh giá trị cột `Aired`. Tạo ra 2 cột mới là `Realeased date` và `Completed date` từ `Aired`](#6.6)\n",
    "    - [6.7. Xem xét dữ liệu của cột `Episodes`](#6.7)\n",
    "    - [6.8. Kiểm tra dữ liệu của cột `Rating`](#6.8)\n",
    "    - [6.9. Kiểm tra dữ liệu của cột `Score By`](#6.9)\n",
    "    - [6.10. Điều chỉnh lại dữ liệu của cột `Rank`](#6.10)\n",
    "\n",
    "- [7. LƯU DỮ LIỆU ĐÃ ĐƯỢC XỬ LÝ](#7)\n",
    "    - [7.1. Kiểm tra lại kiểu dữ liệu của các cột, các thuộc tính](#7.1)\n",
    "    - [7.2. Xuất ra file .csv](#7.2)\n",
    "\n",
    "- [8. KIỂM TRA LẠI BỘ DỮ LIỆU](#8)"
   ]
  },
  {
   "cell_type": "markdown",
   "metadata": {},
   "source": [
    "---"
   ]
  },
  {
   "cell_type": "markdown",
   "metadata": {},
   "source": [
    "<a class=\"anchor\" id=\"1\"></a>\n",
    "\n",
    "## 1. IMPORT THƯ VIỆN"
   ]
  },
  {
   "cell_type": "markdown",
   "metadata": {},
   "source": [
    "Đây là những thư viện dùng cho Data Preprocessing:\n",
    "- `numpy`: Dùng cho các phép toán trên ma trận\n",
    "- `pandas`: Dùng để lưu trữ dữ liệu từ các tệp `.csv` và vận hành các hàm trên DataFrame\n",
    "- `ast`: Dùng cho literal_eval để đánh giá an toàn các chuỗi chứa biểu thức Python\n",
    "- `re`: Dùng cho các biểu thức chính quy để trích xuất, phân tích cú pháp, làm sạch chuỗi\n",
    "- `datetime` từ `datetime`: Cung cấp các lớp để làm việc với ngày và giờ"
   ]
  },
  {
   "cell_type": "code",
   "execution_count": 1,
   "metadata": {
    "id": "5jq7Yf7Ez1Os"
   },
   "outputs": [],
   "source": [
    "import numpy as np\n",
    "import pandas as pd\n",
    "from datetime import datetime\n",
    "import ast\n",
    "import re\n",
    "\n",
    "# Disable future warnings and user warnings\n",
    "import warnings\n",
    "warnings.simplefilter(action='ignore', category=FutureWarning)\n",
    "warnings.simplefilter(action='ignore', category=UserWarning)\n",
    "warnings.simplefilter(action='ignore', category=UserWarning)"
   ]
  },
  {
   "cell_type": "markdown",
   "metadata": {
    "id": "cOfzB6Ea22wo"
   },
   "source": [
    "## 2. ĐỌC DỮ LIỆU TRONG FILE `raw_manga.csv`"
   ]
  },
  {
   "cell_type": "code",
   "execution_count": 2,
   "metadata": {
    "id": "YjbScsjM0RU2"
   },
   "outputs": [
    {
     "data": {
      "text/html": [
       "<div>\n",
       "<style scoped>\n",
       "    .dataframe tbody tr th:only-of-type {\n",
       "        vertical-align: middle;\n",
       "    }\n",
       "\n",
       "    .dataframe tbody tr th {\n",
       "        vertical-align: top;\n",
       "    }\n",
       "\n",
       "    .dataframe thead th {\n",
       "        text-align: right;\n",
       "    }\n",
       "</style>\n",
       "<table border=\"1\" class=\"dataframe\">\n",
       "  <thead>\n",
       "    <tr style=\"text-align: right;\">\n",
       "      <th></th>\n",
       "      <th>Title</th>\n",
       "      <th>Score</th>\n",
       "      <th>Vote</th>\n",
       "      <th>Ranked</th>\n",
       "      <th>Popularity</th>\n",
       "      <th>Members</th>\n",
       "      <th>Favorite</th>\n",
       "      <th>Types</th>\n",
       "      <th>Volumes</th>\n",
       "      <th>Chapters</th>\n",
       "      <th>Status</th>\n",
       "      <th>Published</th>\n",
       "      <th>Genres</th>\n",
       "      <th>Themes</th>\n",
       "      <th>Demographic</th>\n",
       "      <th>Serialization</th>\n",
       "      <th>Author</th>\n",
       "      <th>Total Review</th>\n",
       "      <th>Type Review</th>\n",
       "    </tr>\n",
       "  </thead>\n",
       "  <tbody>\n",
       "    <tr>\n",
       "      <th>0</th>\n",
       "      <td>Berserk</td>\n",
       "      <td>9.47</td>\n",
       "      <td>363720.0</td>\n",
       "      <td>1</td>\n",
       "      <td>1</td>\n",
       "      <td>725,079</td>\n",
       "      <td>130,489</td>\n",
       "      <td>Manga</td>\n",
       "      <td>Unknown</td>\n",
       "      <td>Unknown</td>\n",
       "      <td>Publishing</td>\n",
       "      <td>Aug  25, 1989 to ?</td>\n",
       "      <td>['Action', 'Adventure', 'Award Winning', 'Dram...</td>\n",
       "      <td>['Gore', 'Military', 'Mythology', 'Psychologic...</td>\n",
       "      <td>Seinen</td>\n",
       "      <td>Young Animal</td>\n",
       "      <td>Miura, Kentarou (Story &amp; Art), Studio Gaga (Art)</td>\n",
       "      <td>289</td>\n",
       "      <td>[252, 17, 20]</td>\n",
       "    </tr>\n",
       "    <tr>\n",
       "      <th>1</th>\n",
       "      <td>JoJo no Kimyou na Bouken Part 7: Steel Ball Ru...</td>\n",
       "      <td>9.31</td>\n",
       "      <td>172219.0</td>\n",
       "      <td>2</td>\n",
       "      <td>23</td>\n",
       "      <td>280,428</td>\n",
       "      <td>46,269</td>\n",
       "      <td>Manga</td>\n",
       "      <td>24</td>\n",
       "      <td>96</td>\n",
       "      <td>Finished</td>\n",
       "      <td>Jan  19, 2004 to Apr  19, 2011</td>\n",
       "      <td>['Action', 'Adventure', 'Mystery', 'Supernatur...</td>\n",
       "      <td>['Historical']</td>\n",
       "      <td>Seinen</td>\n",
       "      <td>Ultra Jump</td>\n",
       "      <td>Araki, Hirohiko (Story &amp; Art)</td>\n",
       "      <td>131</td>\n",
       "      <td>[123, 7, 1]</td>\n",
       "    </tr>\n",
       "    <tr>\n",
       "      <th>2</th>\n",
       "      <td>Vagabond</td>\n",
       "      <td>9.26</td>\n",
       "      <td>154583.0</td>\n",
       "      <td>3</td>\n",
       "      <td>13</td>\n",
       "      <td>406,082</td>\n",
       "      <td>44,258</td>\n",
       "      <td>Manga</td>\n",
       "      <td>37</td>\n",
       "      <td>327</td>\n",
       "      <td>On Hiatus</td>\n",
       "      <td>Sep  3, 1998 to May  21, 2015</td>\n",
       "      <td>['Action', 'Adventure', 'Award Winning']</td>\n",
       "      <td>['Historical', 'Samurai']</td>\n",
       "      <td>Seinen</td>\n",
       "      <td>Morning</td>\n",
       "      <td>Inoue, Takehiko (Story &amp; Art), Yoshikawa, Eiji...</td>\n",
       "      <td>104</td>\n",
       "      <td>[93, 9, 2]</td>\n",
       "    </tr>\n",
       "    <tr>\n",
       "      <th>3</th>\n",
       "      <td>One Piece</td>\n",
       "      <td>9.22</td>\n",
       "      <td>392811.0</td>\n",
       "      <td>4</td>\n",
       "      <td>4</td>\n",
       "      <td>642,620</td>\n",
       "      <td>119,974</td>\n",
       "      <td>Manga</td>\n",
       "      <td>Unknown</td>\n",
       "      <td>Unknown</td>\n",
       "      <td>Publishing</td>\n",
       "      <td>Jul  22, 1997 to ?</td>\n",
       "      <td>['Action', 'Adventure', 'Fantasy']</td>\n",
       "      <td>[]</td>\n",
       "      <td>Shounen</td>\n",
       "      <td>Shounen Jump (Weekly)</td>\n",
       "      <td>Oda, Eiichiro (Story &amp; Art)</td>\n",
       "      <td>231</td>\n",
       "      <td>[190, 21, 20]</td>\n",
       "    </tr>\n",
       "    <tr>\n",
       "      <th>4</th>\n",
       "      <td>Monster</td>\n",
       "      <td>9.16</td>\n",
       "      <td>104327.0</td>\n",
       "      <td>5</td>\n",
       "      <td>29</td>\n",
       "      <td>258,581</td>\n",
       "      <td>22,008</td>\n",
       "      <td>Manga</td>\n",
       "      <td>18</td>\n",
       "      <td>162</td>\n",
       "      <td>Finished</td>\n",
       "      <td>Dec  5, 1994 to Dec  20, 2001</td>\n",
       "      <td>['Award Winning', 'Drama', 'Mystery']</td>\n",
       "      <td>['Adult Cast', 'Psychological']</td>\n",
       "      <td>Seinen</td>\n",
       "      <td>Big Comic Original</td>\n",
       "      <td>Urasawa, Naoki (Story &amp; Art)</td>\n",
       "      <td>86</td>\n",
       "      <td>[69, 11, 6]</td>\n",
       "    </tr>\n",
       "  </tbody>\n",
       "</table>\n",
       "</div>"
      ],
      "text/plain": [
       "                                               Title  Score      Vote  Ranked  \\\n",
       "0                                            Berserk   9.47  363720.0       1   \n",
       "1  JoJo no Kimyou na Bouken Part 7: Steel Ball Ru...   9.31  172219.0       2   \n",
       "2                                           Vagabond   9.26  154583.0       3   \n",
       "3                                          One Piece   9.22  392811.0       4   \n",
       "4                                            Monster   9.16  104327.0       5   \n",
       "\n",
       "   Popularity  Members Favorite  Types  Volumes Chapters      Status  \\\n",
       "0           1  725,079  130,489  Manga  Unknown  Unknown  Publishing   \n",
       "1          23  280,428   46,269  Manga       24       96    Finished   \n",
       "2          13  406,082   44,258  Manga       37      327   On Hiatus   \n",
       "3           4  642,620  119,974  Manga  Unknown  Unknown  Publishing   \n",
       "4          29  258,581   22,008  Manga       18      162    Finished   \n",
       "\n",
       "                        Published  \\\n",
       "0              Aug  25, 1989 to ?   \n",
       "1  Jan  19, 2004 to Apr  19, 2011   \n",
       "2   Sep  3, 1998 to May  21, 2015   \n",
       "3              Jul  22, 1997 to ?   \n",
       "4   Dec  5, 1994 to Dec  20, 2001   \n",
       "\n",
       "                                              Genres  \\\n",
       "0  ['Action', 'Adventure', 'Award Winning', 'Dram...   \n",
       "1  ['Action', 'Adventure', 'Mystery', 'Supernatur...   \n",
       "2           ['Action', 'Adventure', 'Award Winning']   \n",
       "3                 ['Action', 'Adventure', 'Fantasy']   \n",
       "4              ['Award Winning', 'Drama', 'Mystery']   \n",
       "\n",
       "                                              Themes Demographic  \\\n",
       "0  ['Gore', 'Military', 'Mythology', 'Psychologic...      Seinen   \n",
       "1                                     ['Historical']      Seinen   \n",
       "2                          ['Historical', 'Samurai']      Seinen   \n",
       "3                                                 []     Shounen   \n",
       "4                    ['Adult Cast', 'Psychological']      Seinen   \n",
       "\n",
       "           Serialization                                             Author  \\\n",
       "0           Young Animal   Miura, Kentarou (Story & Art), Studio Gaga (Art)   \n",
       "1             Ultra Jump                      Araki, Hirohiko (Story & Art)   \n",
       "2                Morning  Inoue, Takehiko (Story & Art), Yoshikawa, Eiji...   \n",
       "3  Shounen Jump (Weekly)                        Oda, Eiichiro (Story & Art)   \n",
       "4     Big Comic Original                       Urasawa, Naoki (Story & Art)   \n",
       "\n",
       "   Total Review    Type Review  \n",
       "0           289  [252, 17, 20]  \n",
       "1           131    [123, 7, 1]  \n",
       "2           104     [93, 9, 2]  \n",
       "3           231  [190, 21, 20]  \n",
       "4            86    [69, 11, 6]  "
      ]
     },
     "execution_count": 2,
     "metadata": {},
     "output_type": "execute_result"
    }
   ],
   "source": [
    "file_path = \"../data/raw_manga.csv\"\n",
    "\n",
    "raw_df = pd.read_csv(file_path)\n",
    "raw_df.head()"
   ]
  },
  {
   "cell_type": "markdown",
   "metadata": {
    "id": "bki9sPtX1_9c"
   },
   "source": [
    "### 2.1. Số dòng và số cột của bộ dữ liệu"
   ]
  },
  {
   "cell_type": "code",
   "execution_count": 3,
   "metadata": {
    "colab": {
     "base_uri": "https://localhost:8080/"
    },
    "id": "OB5tsH3a0gkp",
    "outputId": "4b893c85-d37a-4532-f748-b4d13beeccb5"
   },
   "outputs": [
    {
     "name": "stdout",
     "output_type": "stream",
     "text": [
      "Có 20000 dòng và 19 cột trong bộ dữ liệu\n"
     ]
    }
   ],
   "source": [
    "rows, cols = raw_df.shape\n",
    "print(f'Có {rows} dòng và {cols} cột trong bộ dữ liệu')"
   ]
  },
  {
   "cell_type": "markdown",
   "metadata": {},
   "source": [
    "**Nhận xét**\n",
    "- Tập dữ liệu gồm 20000 dòng với 19 cột tương ứng với 19 thuộc tính của bộ dữ liệu\n",
    "- Bộ dữ liệu này mô tả các thông tin chi tiết về các bộ truyện tính đến tháng **11/2024**"
   ]
  },
  {
   "cell_type": "markdown",
   "metadata": {},
   "source": [
    "<a class=\"anchor\" id=\"3.2\"></a>\n",
    "\n",
    "### 2.2 Ý nghĩa của các hàng và các cột"
   ]
  },
  {
   "cell_type": "markdown",
   "metadata": {},
   "source": [
    "- Mỗi dòng dữ liệu trong bộ dữ liệu này là dữ liệu về một bộ truyện được thu thập trên MyAnimeList tính đến tháng **11/2024**\n",
    "- Mỗi cột dữ liệu trong bộ dữ liệu gốc lần lượt có ý nghĩa như sau:"
   ]
  },
  {
   "cell_type": "markdown",
   "metadata": {},
   "source": [
    "| **ATTRIBUTES**            | **MÔ TẢ**                                                                 |\n",
    "|:----------------------|:-------------------------------------------------------------------------|\n",
    "| **`Title`**            | Tên của bộ truyện được viết theo phiên âm tiếng Anh|\n",
    "| **`Score`**            | Điểm số của bộ truyện trên trang MyAnimeList (MAL)|\n",
    "| **`Vote`**             | Số lượng độc giả đã tham gia bình chọn và đánh giá cho bộ truyện. |\n",
    "| **`Ranked`**           | Thứ hạng của bộ truyện trên MyAnimeList |\n",
    "| **`Popularity`**       | Mức độ phổ biến của bộ truyện  |\n",
    "| **`Members`**          | Số lượng độc giả đã thêm bộ truyện này vào danh sách cá nhân|\n",
    "| **`Favorite`**         | Số lượng độc giả đã thêm bộ truyện này vào danh sách yêu thích|\n",
    "| **`Type`**\t\t        | Loại hình của tác phẩm (Manga, Light Novel,...)|\n",
    "| **`Volumes`**          | Tổng số tập của bộ truyện. Một tập thường bao gồm một hoặc nhiều chương truyện. |\n",
    "| **`Chapters`**         | Tổng số chương truyện của bộ truyện. |\n",
    "| **`Status`**           | Trạng thái hiện tại của bộ truyện (Publishing, Finished,...) |\n",
    "| **`Published`**        | Thời gian phát hành của bộ truyện, bao gồm ngày bắt đầu và ngày kết thúc. |\n",
    "| **`Genres`**           | Thể loại của bộ truyện. |\n",
    "| **`Themes`**           | Chủ đề của bộ truyện. |\n",
    "| **`Demographic`** \t    | Đối tượng độc giả mà bộ truyện hướng đến. |\n",
    "| **`Serialization`** \t| Thông tin về tạp chí hoặc nền tảng phát hành bộ truyện|\n",
    "| **`Author`**           | Tên tác giả của bộ truyện. |\n",
    "| **`Total Review`**     | Tổng số lượng độc giả đã để lại nhận xét hoặc đánh giá cho bộ truyện. |\n",
    "| **`Type Review`**      | Số lượng nhận xét của độc giả thành từng nhóm cụ thể: \"Recommended\", \"Mixed feeling\", và \"Not recommended\". |"
   ]
  },
  {
   "cell_type": "markdown",
   "metadata": {},
   "source": [
    "- Kiểu dữ liệu của từng thuộc tính được biểu diễn như sau:"
   ]
  },
  {
   "cell_type": "code",
   "execution_count": 4,
   "metadata": {
    "colab": {
     "base_uri": "https://localhost:8080/"
    },
    "id": "ZuhBmcbs22Ti",
    "outputId": "56e5f321-322c-4444-cbdb-1db74dcae59f"
   },
   "outputs": [
    {
     "name": "stdout",
     "output_type": "stream",
     "text": [
      "<class 'pandas.core.frame.DataFrame'>\n",
      "RangeIndex: 20000 entries, 0 to 19999\n",
      "Data columns (total 19 columns):\n",
      " #   Column         Non-Null Count  Dtype  \n",
      "---  ------         --------------  -----  \n",
      " 0   Title          20000 non-null  object \n",
      " 1   Score          19929 non-null  float64\n",
      " 2   Vote           19929 non-null  float64\n",
      " 3   Ranked         20000 non-null  int64  \n",
      " 4   Popularity     20000 non-null  int64  \n",
      " 5   Members        20000 non-null  object \n",
      " 6   Favorite       20000 non-null  object \n",
      " 7   Types          20000 non-null  object \n",
      " 8   Volumes        20000 non-null  object \n",
      " 9   Chapters       20000 non-null  object \n",
      " 10  Status         20000 non-null  object \n",
      " 11  Published      20000 non-null  object \n",
      " 12  Genres         20000 non-null  object \n",
      " 13  Themes         20000 non-null  object \n",
      " 14  Demographic    11785 non-null  object \n",
      " 15  Serialization  16698 non-null  object \n",
      " 16  Author         19951 non-null  object \n",
      " 17  Total Review   20000 non-null  int64  \n",
      " 18  Type Review    20000 non-null  object \n",
      "dtypes: float64(2), int64(3), object(14)\n",
      "memory usage: 2.9+ MB\n",
      "None\n"
     ]
    }
   ],
   "source": [
    "print(raw_df.info())"
   ]
  },
  {
   "cell_type": "markdown",
   "metadata": {},
   "source": [
    "<a class=\"anchor\" id=\"5\"></a>\n",
    "\n",
    "## 3. KIỂM TRA DỮ LIỆU BỊ TRÙNG"
   ]
  },
  {
   "cell_type": "code",
   "execution_count": 5,
   "metadata": {},
   "outputs": [
    {
     "data": {
      "text/html": [
       "<div>\n",
       "<style scoped>\n",
       "    .dataframe tbody tr th:only-of-type {\n",
       "        vertical-align: middle;\n",
       "    }\n",
       "\n",
       "    .dataframe tbody tr th {\n",
       "        vertical-align: top;\n",
       "    }\n",
       "\n",
       "    .dataframe thead th {\n",
       "        text-align: right;\n",
       "    }\n",
       "</style>\n",
       "<table border=\"1\" class=\"dataframe\">\n",
       "  <thead>\n",
       "    <tr style=\"text-align: right;\">\n",
       "      <th></th>\n",
       "      <th>Title</th>\n",
       "      <th>Score</th>\n",
       "      <th>Vote</th>\n",
       "      <th>Ranked</th>\n",
       "      <th>Popularity</th>\n",
       "      <th>Members</th>\n",
       "      <th>Favorite</th>\n",
       "      <th>Types</th>\n",
       "      <th>Volumes</th>\n",
       "      <th>Chapters</th>\n",
       "      <th>Status</th>\n",
       "      <th>Published</th>\n",
       "      <th>Genres</th>\n",
       "      <th>Themes</th>\n",
       "      <th>Demographic</th>\n",
       "      <th>Serialization</th>\n",
       "      <th>Author</th>\n",
       "      <th>Total Review</th>\n",
       "      <th>Type Review</th>\n",
       "    </tr>\n",
       "  </thead>\n",
       "  <tbody>\n",
       "    <tr>\n",
       "      <th>5755</th>\n",
       "      <td>Ore no Class ni Wakagaetta Motoyome ga Iru</td>\n",
       "      <td>7.22</td>\n",
       "      <td>541.0</td>\n",
       "      <td>5756</td>\n",
       "      <td>7919</td>\n",
       "      <td>2,498</td>\n",
       "      <td>6</td>\n",
       "      <td>Manga</td>\n",
       "      <td>Unknown</td>\n",
       "      <td>Unknown</td>\n",
       "      <td>Publishing</td>\n",
       "      <td>Apr  11, 2024 to ?</td>\n",
       "      <td>['Romance']</td>\n",
       "      <td>['School', 'Time Travel']</td>\n",
       "      <td>NaN</td>\n",
       "      <td>Suiyoubi no Sirius</td>\n",
       "      <td>Nekomata, Nuko (Story), Akanbou (Art)</td>\n",
       "      <td>1</td>\n",
       "      <td>[1, 0, 0]</td>\n",
       "    </tr>\n",
       "  </tbody>\n",
       "</table>\n",
       "</div>"
      ],
      "text/plain": [
       "                                           Title  Score   Vote  Ranked  \\\n",
       "5755  Ore no Class ni Wakagaetta Motoyome ga Iru   7.22  541.0    5756   \n",
       "\n",
       "      Popularity Members Favorite  Types  Volumes Chapters      Status  \\\n",
       "5755        7919   2,498        6  Manga  Unknown  Unknown  Publishing   \n",
       "\n",
       "               Published       Genres                     Themes Demographic  \\\n",
       "5755  Apr  11, 2024 to ?  ['Romance']  ['School', 'Time Travel']         NaN   \n",
       "\n",
       "           Serialization                                 Author  Total Review  \\\n",
       "5755  Suiyoubi no Sirius  Nekomata, Nuko (Story), Akanbou (Art)             1   \n",
       "\n",
       "     Type Review  \n",
       "5755   [1, 0, 0]  "
      ]
     },
     "execution_count": 5,
     "metadata": {},
     "output_type": "execute_result"
    }
   ],
   "source": [
    "duplicate_rows = raw_df[raw_df.duplicated()]\n",
    "duplicate_rows"
   ]
  },
  {
   "cell_type": "markdown",
   "metadata": {},
   "source": [
    "Có một dòng bị trùng dữ liệu, cho nên sẽ xóa dòng này đi"
   ]
  },
  {
   "cell_type": "code",
   "execution_count": 6,
   "metadata": {},
   "outputs": [],
   "source": [
    "# Xóa các dòng bị trùng lặp và giữ lại bản ghi đầu tiên\n",
    "raw_df = raw_df.drop_duplicates()\n",
    "raw_df = raw_df.reset_index(drop=True)"
   ]
  },
  {
   "cell_type": "markdown",
   "metadata": {
    "id": "NxvkcO6g3CAA"
   },
   "source": [
    "## 4. XEM XÉT VÀ PHÂN TÍCH CÁC THUỘC TÍNH LIÊN QUAN ĐẾN BỘ DỮ LIỆU"
   ]
  },
  {
   "cell_type": "markdown",
   "metadata": {},
   "source": [
    "<a class=\"anchor\" id=\"6.1\"></a>\n",
    "\n",
    "### 4.1. Kiểm tra tỷ lệ `Missing` của các thuộc tính"
   ]
  },
  {
   "cell_type": "markdown",
   "metadata": {},
   "source": [
    "Trong bộ dữ liệu này, có một vài giá trị trong các cột có giá trị là **None** hoặc rỗng. Để đảm bảo rằng các giá trị **None** này không làm ảnh hưởng đến chất lượng của bộ dữ liệu, nhóm sẽ kiểm tra các giá trị **None** này."
   ]
  },
  {
   "cell_type": "code",
   "execution_count": 7,
   "metadata": {
    "colab": {
     "base_uri": "https://localhost:8080/"
    },
    "id": "h73_e38J22ob",
    "outputId": "30c23e07-7b90-43cd-b9b3-9d53e323a72e"
   },
   "outputs": [
    {
     "name": "stdout",
     "output_type": "stream",
     "text": [
      "Missing ratio (%):\n",
      "\n",
      "Demographic      41.07\n",
      "Serialization    16.51\n",
      "Vote              0.36\n",
      "Score             0.36\n",
      "Author            0.25\n",
      "Title             0.00\n",
      "Published         0.00\n",
      "Total Review      0.00\n",
      "Themes            0.00\n",
      "Genres            0.00\n",
      "Chapters          0.00\n",
      "Status            0.00\n",
      "Volumes           0.00\n",
      "Types             0.00\n",
      "Favorite          0.00\n",
      "Members           0.00\n",
      "Popularity        0.00\n",
      "Ranked            0.00\n",
      "Type Review       0.00\n",
      "dtype: float64\n"
     ]
    }
   ],
   "source": [
    "# Kiểm tra Missing ratio của các thuộc tính\n",
    "print(\"Missing ratio (%):\\n\")\n",
    "print(round(raw_df.isnull().sum().sort_values(ascending=False)/len(raw_df.index),4)*100)"
   ]
  },
  {
   "cell_type": "code",
   "execution_count": 8,
   "metadata": {
    "colab": {
     "base_uri": "https://localhost:8080/"
    },
    "id": "7u2D2KheAWbE",
    "outputId": "e8388b88-6184-47c0-c173-61784e6c2c65"
   },
   "outputs": [
    {
     "name": "stdout",
     "output_type": "stream",
     "text": [
      "Tỉ lệ empty lists (missing ratio) 'Themes': 46.38%\n",
      "Tỉ lệ empty lists (missing ratio) 'Genres': 2.79%\n"
     ]
    }
   ],
   "source": [
    "def parse_themes(theme_str):\n",
    "  \"\"\"Parses a string representation of a list into a list, removing brackets.\"\"\"\n",
    "  if isinstance(theme_str, str):\n",
    "    theme_str = theme_str.replace('[', '').replace(']', '')\n",
    "    if theme_str:\n",
    "      return [item.strip() for item in theme_str.split(',')]\n",
    "    else:\n",
    "      return []\n",
    "  else:\n",
    "    return []\n",
    "\n",
    "\n",
    "raw_df['Themes'] = raw_df['Themes'].apply(parse_themes)\n",
    "raw_df['Genres'] = raw_df['Genres'].apply(parse_themes)\n",
    "# Calculate the percentage of empty lists in the 'Themes' column\n",
    "percentage_empty_themes = (raw_df['Themes'].apply(len) == 0).mean() * 100\n",
    "percentage_empty_genres = (raw_df['Genres'].apply(len) == 0).mean() * 100\n",
    "print(f\"Tỉ lệ empty lists (missing ratio) 'Themes': {percentage_empty_themes:.2f}%\")\n",
    "print(f\"Tỉ lệ empty lists (missing ratio) 'Genres': {percentage_empty_genres:.2f}%\")\n"
   ]
  },
  {
   "cell_type": "markdown",
   "metadata": {},
   "source": [
    "Nhóm thực hiện thay thế các giá trị thiếu hoặc empty lists bằng giá trị `NaN`"
   ]
  },
  {
   "cell_type": "code",
   "execution_count": 9,
   "metadata": {
    "id": "SX89foSxBVFz"
   },
   "outputs": [],
   "source": [
    "# Replace missing values and empty lists with NaN\n",
    "raw_df.fillna(np.nan, inplace=True)\n",
    "for column in raw_df.columns:\n",
    "    if isinstance(raw_df[column].iloc[0], list):\n",
    "        raw_df[column] = raw_df[column].apply(lambda x: np.nan if not x else x)"
   ]
  },
  {
   "cell_type": "code",
   "execution_count": 10,
   "metadata": {
    "colab": {
     "base_uri": "https://localhost:8080/",
     "height": 608
    },
    "id": "i25hhOxOE0pF",
    "outputId": "2b8aa49c-bf45-475f-9026-00a15cc3aeba"
   },
   "outputs": [
    {
     "data": {
      "text/html": [
       "<div>\n",
       "<style scoped>\n",
       "    .dataframe tbody tr th:only-of-type {\n",
       "        vertical-align: middle;\n",
       "    }\n",
       "\n",
       "    .dataframe tbody tr th {\n",
       "        vertical-align: top;\n",
       "    }\n",
       "\n",
       "    .dataframe thead th {\n",
       "        text-align: right;\n",
       "    }\n",
       "</style>\n",
       "<table border=\"1\" class=\"dataframe\">\n",
       "  <thead>\n",
       "    <tr style=\"text-align: right;\">\n",
       "      <th></th>\n",
       "      <th>Title</th>\n",
       "      <th>Score</th>\n",
       "      <th>Vote</th>\n",
       "      <th>Ranked</th>\n",
       "      <th>Popularity</th>\n",
       "      <th>Members</th>\n",
       "      <th>Favorite</th>\n",
       "      <th>Types</th>\n",
       "      <th>Volumes</th>\n",
       "      <th>Chapters</th>\n",
       "      <th>Status</th>\n",
       "      <th>Published</th>\n",
       "      <th>Genres</th>\n",
       "      <th>Themes</th>\n",
       "      <th>Demographic</th>\n",
       "      <th>Serialization</th>\n",
       "      <th>Author</th>\n",
       "      <th>Total Review</th>\n",
       "      <th>Type Review</th>\n",
       "    </tr>\n",
       "  </thead>\n",
       "  <tbody>\n",
       "    <tr>\n",
       "      <th>0</th>\n",
       "      <td>Berserk</td>\n",
       "      <td>9.47</td>\n",
       "      <td>363720.0</td>\n",
       "      <td>1</td>\n",
       "      <td>1</td>\n",
       "      <td>725,079</td>\n",
       "      <td>130,489</td>\n",
       "      <td>Manga</td>\n",
       "      <td>Unknown</td>\n",
       "      <td>Unknown</td>\n",
       "      <td>Publishing</td>\n",
       "      <td>Aug  25, 1989 to ?</td>\n",
       "      <td>['Action', 'Adventure', 'Award Winning', 'Dram...</td>\n",
       "      <td>['Gore', 'Military', 'Mythology', 'Psychologic...</td>\n",
       "      <td>Seinen</td>\n",
       "      <td>Young Animal</td>\n",
       "      <td>Miura, Kentarou (Story &amp; Art), Studio Gaga (Art)</td>\n",
       "      <td>289</td>\n",
       "      <td>[252, 17, 20]</td>\n",
       "    </tr>\n",
       "    <tr>\n",
       "      <th>1</th>\n",
       "      <td>JoJo no Kimyou na Bouken Part 7: Steel Ball Ru...</td>\n",
       "      <td>9.31</td>\n",
       "      <td>172219.0</td>\n",
       "      <td>2</td>\n",
       "      <td>23</td>\n",
       "      <td>280,428</td>\n",
       "      <td>46,269</td>\n",
       "      <td>Manga</td>\n",
       "      <td>24</td>\n",
       "      <td>96</td>\n",
       "      <td>Finished</td>\n",
       "      <td>Jan  19, 2004 to Apr  19, 2011</td>\n",
       "      <td>['Action', 'Adventure', 'Mystery', 'Supernatur...</td>\n",
       "      <td>['Historical']</td>\n",
       "      <td>Seinen</td>\n",
       "      <td>Ultra Jump</td>\n",
       "      <td>Araki, Hirohiko (Story &amp; Art)</td>\n",
       "      <td>131</td>\n",
       "      <td>[123, 7, 1]</td>\n",
       "    </tr>\n",
       "    <tr>\n",
       "      <th>2</th>\n",
       "      <td>Vagabond</td>\n",
       "      <td>9.26</td>\n",
       "      <td>154583.0</td>\n",
       "      <td>3</td>\n",
       "      <td>13</td>\n",
       "      <td>406,082</td>\n",
       "      <td>44,258</td>\n",
       "      <td>Manga</td>\n",
       "      <td>37</td>\n",
       "      <td>327</td>\n",
       "      <td>On Hiatus</td>\n",
       "      <td>Sep  3, 1998 to May  21, 2015</td>\n",
       "      <td>['Action', 'Adventure', 'Award Winning']</td>\n",
       "      <td>['Historical', 'Samurai']</td>\n",
       "      <td>Seinen</td>\n",
       "      <td>Morning</td>\n",
       "      <td>Inoue, Takehiko (Story &amp; Art), Yoshikawa, Eiji...</td>\n",
       "      <td>104</td>\n",
       "      <td>[93, 9, 2]</td>\n",
       "    </tr>\n",
       "    <tr>\n",
       "      <th>3</th>\n",
       "      <td>One Piece</td>\n",
       "      <td>9.22</td>\n",
       "      <td>392811.0</td>\n",
       "      <td>4</td>\n",
       "      <td>4</td>\n",
       "      <td>642,620</td>\n",
       "      <td>119,974</td>\n",
       "      <td>Manga</td>\n",
       "      <td>Unknown</td>\n",
       "      <td>Unknown</td>\n",
       "      <td>Publishing</td>\n",
       "      <td>Jul  22, 1997 to ?</td>\n",
       "      <td>['Action', 'Adventure', 'Fantasy']</td>\n",
       "      <td>NaN</td>\n",
       "      <td>Shounen</td>\n",
       "      <td>Shounen Jump (Weekly)</td>\n",
       "      <td>Oda, Eiichiro (Story &amp; Art)</td>\n",
       "      <td>231</td>\n",
       "      <td>[190, 21, 20]</td>\n",
       "    </tr>\n",
       "    <tr>\n",
       "      <th>4</th>\n",
       "      <td>Monster</td>\n",
       "      <td>9.16</td>\n",
       "      <td>104327.0</td>\n",
       "      <td>5</td>\n",
       "      <td>29</td>\n",
       "      <td>258,581</td>\n",
       "      <td>22,008</td>\n",
       "      <td>Manga</td>\n",
       "      <td>18</td>\n",
       "      <td>162</td>\n",
       "      <td>Finished</td>\n",
       "      <td>Dec  5, 1994 to Dec  20, 2001</td>\n",
       "      <td>['Award Winning', 'Drama', 'Mystery']</td>\n",
       "      <td>['Adult Cast', 'Psychological']</td>\n",
       "      <td>Seinen</td>\n",
       "      <td>Big Comic Original</td>\n",
       "      <td>Urasawa, Naoki (Story &amp; Art)</td>\n",
       "      <td>86</td>\n",
       "      <td>[69, 11, 6]</td>\n",
       "    </tr>\n",
       "  </tbody>\n",
       "</table>\n",
       "</div>"
      ],
      "text/plain": [
       "                                               Title  Score      Vote  Ranked  \\\n",
       "0                                            Berserk   9.47  363720.0       1   \n",
       "1  JoJo no Kimyou na Bouken Part 7: Steel Ball Ru...   9.31  172219.0       2   \n",
       "2                                           Vagabond   9.26  154583.0       3   \n",
       "3                                          One Piece   9.22  392811.0       4   \n",
       "4                                            Monster   9.16  104327.0       5   \n",
       "\n",
       "   Popularity  Members Favorite  Types  Volumes Chapters      Status  \\\n",
       "0           1  725,079  130,489  Manga  Unknown  Unknown  Publishing   \n",
       "1          23  280,428   46,269  Manga       24       96    Finished   \n",
       "2          13  406,082   44,258  Manga       37      327   On Hiatus   \n",
       "3           4  642,620  119,974  Manga  Unknown  Unknown  Publishing   \n",
       "4          29  258,581   22,008  Manga       18      162    Finished   \n",
       "\n",
       "                        Published  \\\n",
       "0              Aug  25, 1989 to ?   \n",
       "1  Jan  19, 2004 to Apr  19, 2011   \n",
       "2   Sep  3, 1998 to May  21, 2015   \n",
       "3              Jul  22, 1997 to ?   \n",
       "4   Dec  5, 1994 to Dec  20, 2001   \n",
       "\n",
       "                                              Genres  \\\n",
       "0  ['Action', 'Adventure', 'Award Winning', 'Dram...   \n",
       "1  ['Action', 'Adventure', 'Mystery', 'Supernatur...   \n",
       "2           ['Action', 'Adventure', 'Award Winning']   \n",
       "3                 ['Action', 'Adventure', 'Fantasy']   \n",
       "4              ['Award Winning', 'Drama', 'Mystery']   \n",
       "\n",
       "                                              Themes Demographic  \\\n",
       "0  ['Gore', 'Military', 'Mythology', 'Psychologic...      Seinen   \n",
       "1                                     ['Historical']      Seinen   \n",
       "2                          ['Historical', 'Samurai']      Seinen   \n",
       "3                                                NaN     Shounen   \n",
       "4                    ['Adult Cast', 'Psychological']      Seinen   \n",
       "\n",
       "           Serialization                                             Author  \\\n",
       "0           Young Animal   Miura, Kentarou (Story & Art), Studio Gaga (Art)   \n",
       "1             Ultra Jump                      Araki, Hirohiko (Story & Art)   \n",
       "2                Morning  Inoue, Takehiko (Story & Art), Yoshikawa, Eiji...   \n",
       "3  Shounen Jump (Weekly)                        Oda, Eiichiro (Story & Art)   \n",
       "4     Big Comic Original                       Urasawa, Naoki (Story & Art)   \n",
       "\n",
       "   Total Review    Type Review  \n",
       "0           289  [252, 17, 20]  \n",
       "1           131    [123, 7, 1]  \n",
       "2           104     [93, 9, 2]  \n",
       "3           231  [190, 21, 20]  \n",
       "4            86    [69, 11, 6]  "
      ]
     },
     "execution_count": 10,
     "metadata": {},
     "output_type": "execute_result"
    }
   ],
   "source": [
    "raw_df.head()"
   ]
  },
  {
   "cell_type": "markdown",
   "metadata": {},
   "source": [
    "Nhóm thấy không có cột nào có tỉ lệ giá trị **Missing** lớn hơn 75%. Cho nên nhóm sẽ xem xét các thuộc tính nhằm mục đích xóa hoặc điền giá trị cho các giá trị **UNKNOWN** của thuộc tính đó ở các bước sau."
   ]
  },
  {
   "cell_type": "markdown",
   "metadata": {
    "id": "MIr7v-qL3rnG"
   },
   "source": [
    "### 4.2. Xử lý dữ liệu cột `Published`"
   ]
  },
  {
   "cell_type": "markdown",
   "metadata": {
    "id": "1EupdTygB6p4"
   },
   "source": [
    "Nhóm sẽ xử lý các dữ liệu dạng datetime và các trường hợp ngoại lệ trong cột `Published`. Đầu tiên, loại bỏ những dòng có giá trị ở cột `Published` là **Not available**"
   ]
  },
  {
   "cell_type": "code",
   "execution_count": 11,
   "metadata": {
    "id": "y8BpS6803skl"
   },
   "outputs": [],
   "source": [
    "raw_df = raw_df[raw_df['Published'] != 'Not available']"
   ]
  },
  {
   "cell_type": "markdown",
   "metadata": {},
   "source": [
    "Nhóm nhận thấy rằng dữ liệu cột `Published` rất quan trọng với bộ dữ liệu này, nguyên nhân là do mỗi bộ truyện đều cần có ngày phát hành và ngày kết thúc. Tuy nhiên, cách biểu diễn dữ liệu trong cột `Published` là chưa hợp lý. Do đó, nhóm sẽ thêm vào hai cột mới là `Realeased date` và `Completed date` để biểu diễn tốt hơn dữ liệu."
   ]
  },
  {
   "cell_type": "code",
   "execution_count": 12,
   "metadata": {
    "id": "bLzf3RBnbFJU"
   },
   "outputs": [],
   "source": [
    "def preprocess_published(df):\n",
    "    \"\"\"\n",
    "    Preprocesses the 'Published' column in the DataFrame.\n",
    "\n",
    "    Args:\n",
    "        df: The DataFrame containing the 'Published' column.\n",
    "\n",
    "    Returns:\n",
    "        The DataFrame with 'Released date' and 'Completed date' columns preprocessed.\n",
    "    \"\"\"\n",
    "    def parse_single_date(date_str, is_start_date=True):\n",
    "        if \",\" in date_str:\n",
    "          parts = date_str.split(\",\")\n",
    "          if len(parts) == 2 and parts[0].isdigit() and len(parts[0].strip()) <= 2:  # \"12, 1999\"\n",
    "              try:\n",
    "                  month = int(parts[0].strip())\n",
    "                  year = int(parts[1].strip())\n",
    "                  if 1 <= month <= 12:  # Nếu tháng hợp lệ\n",
    "                      return f\"{year:04d}-{month:02d}-01\"  # Chuyển thành \"YYYY-MM-DD\"\n",
    "              except ValueError:\n",
    "                  pass\n",
    "        for fmt in [\"%b %d, %Y\", \"%b %Y\", \"%Y\", \"%b-%y\"]:\n",
    "            try:\n",
    "                return datetime.strptime(date_str, fmt).strftime(\"%Y-%m-%d\")\n",
    "            except ValueError:\n",
    "                continue\n",
    "        return \"Unknown\" if is_start_date else \"Updating\"\n",
    "\n",
    "    def parse_published(published_str):\n",
    "        if not isinstance(published_str, str) or not published_str.strip():\n",
    "            return \"Unknown\", \"Updating\"\n",
    "\n",
    "        published_str = published_str.strip()\n",
    "\n",
    "        if 'to' in published_str:\n",
    "            try:\n",
    "                start_date_str, end_date_str = map(str.strip, published_str.split('to'))\n",
    "            except ValueError:\n",
    "                return \"Unknown\", \"Updating\"\n",
    "\n",
    "            start_date = parse_single_date(start_date_str, is_start_date=True)\n",
    "            end_date = parse_single_date(end_date_str, is_start_date=False)\n",
    "            return start_date, end_date\n",
    "        else:\n",
    "            start_date = parse_single_date(published_str, is_start_date=True)\n",
    "            return start_date, \"Updating\"\n",
    "\n",
    "    # Áp dụng hàm xử lý và tạo hai cột mới\n",
    "    df['Released date'], df['Completed date'] = zip(*df['Published'].apply(parse_published))\n",
    "    return df\n",
    "\n",
    "# Sử dụng hàm\n",
    "raw_df = preprocess_published(raw_df)\n"
   ]
  },
  {
   "cell_type": "code",
   "execution_count": 13,
   "metadata": {
    "id": "s4f0UuDYC383"
   },
   "outputs": [],
   "source": [
    "def update_completed_date(row):\n",
    "    \"\"\"Updates 'Completed date' based on 'Published' and 'Completed date'.\"\"\"\n",
    "    if 'to' not in str(row['Published']) and row['Completed date'] == 'Updating':\n",
    "        return row['Released date']\n",
    "    return row['Completed date']\n",
    "\n",
    "raw_df['Completed date'] = raw_df.apply(update_completed_date, axis=1)"
   ]
  },
  {
   "cell_type": "markdown",
   "metadata": {
    "id": "qZiodvNs3-qI"
   },
   "source": [
    "### 4.3. Xử lý dữ liệu cột `Score`"
   ]
  },
  {
   "cell_type": "markdown",
   "metadata": {},
   "source": [
    "Bởi vì tỉ lệ giá trị **Missing** trong cột `Score` không quá lớn, cho nên nhóm sẽ điền những giá trị **Missing** bằng giá trị nhỏ nhất (**Min**) trong cột `Score`, vì các giá trị đó đều nằm cuối bộ dữ liệu"
   ]
  },
  {
   "cell_type": "code",
   "execution_count": 14,
   "metadata": {
    "colab": {
     "base_uri": "https://localhost:8080/"
    },
    "id": "eEjNU0l039-O",
    "outputId": "3700b209-9e7c-4b43-c2b8-1cc7343aeeeb"
   },
   "outputs": [],
   "source": [
    "min_score = raw_df['Score'].min(skipna=True)\n",
    "raw_df['Score'].fillna(min_score, inplace=True)"
   ]
  },
  {
   "cell_type": "markdown",
   "metadata": {
    "id": "egOK605L4qQr"
   },
   "source": [
    "### 4.4. Xử lý dữ liệu cột `Vote`"
   ]
  },
  {
   "cell_type": "markdown",
   "metadata": {},
   "source": [
    "Bởi vì tỉ lệ giá trị **Missing** trong cột `Vote` không quá lớn, cho nên nhóm sẽ điền những giá trị **Missing** bằng giá trị trung vị (**Median**) trong cột `Vote`. Đồng thời chuyển kiểu dữ liệu của cột này sang `int64`"
   ]
  },
  {
   "cell_type": "code",
   "execution_count": 15,
   "metadata": {
    "colab": {
     "base_uri": "https://localhost:8080/"
    },
    "id": "-zNxsQNk4xyc",
    "outputId": "c5275748-8eac-4575-a496-28f16415af9a"
   },
   "outputs": [],
   "source": [
    "# Tính toán trung vị\n",
    "median_vote = raw_df['Vote'].median(skipna=True)\n",
    "\n",
    "# Điền giá trị trung vị cho các giá trị NaN\n",
    "raw_df['Vote'].fillna(median_vote, inplace=True)\n",
    "\n",
    "# Đổi kiểu dữ liệu sang int64\n",
    "raw_df['Vote'] = raw_df['Vote'].astype(np.int64)"
   ]
  },
  {
   "cell_type": "markdown",
   "metadata": {
    "id": "9VubUE4I6GY2"
   },
   "source": [
    "### 4.5. Xử lý kiểu dữ liệu `Members` và `Favourite`"
   ]
  },
  {
   "cell_type": "markdown",
   "metadata": {},
   "source": [
    "Dữ liệu ở cột `Members` và `Favourite` không bị thiếu dữ liệu, tuy nhiên kiểu dữ liệu của 2 cột này là `object`, không phù hợp do 2 cột này chứa các giá trị là số. Cho nên, nhóm sẽ đổi kiểu dữ liệu này thành dạng số học"
   ]
  },
  {
   "cell_type": "code",
   "execution_count": 16,
   "metadata": {
    "colab": {
     "base_uri": "https://localhost:8080/",
     "height": 743
    },
    "id": "JQ3MeK7c5h9N",
    "outputId": "b6151576-2c71-45e5-bab3-27055151d409"
   },
   "outputs": [
    {
     "data": {
      "text/plain": [
       "Title              object\n",
       "Score             float64\n",
       "Vote                int64\n",
       "Ranked              int64\n",
       "Popularity          int64\n",
       "Members            object\n",
       "Favorite           object\n",
       "Types              object\n",
       "Volumes            object\n",
       "Chapters           object\n",
       "Status             object\n",
       "Published          object\n",
       "Genres             object\n",
       "Themes             object\n",
       "Demographic        object\n",
       "Serialization      object\n",
       "Author             object\n",
       "Total Review        int64\n",
       "Type Review        object\n",
       "Released date      object\n",
       "Completed date     object\n",
       "dtype: object"
      ]
     },
     "execution_count": 16,
     "metadata": {},
     "output_type": "execute_result"
    }
   ],
   "source": [
    "raw_df.dtypes"
   ]
  },
  {
   "cell_type": "code",
   "execution_count": 17,
   "metadata": {
    "id": "j9ybOooy6WT8"
   },
   "outputs": [],
   "source": [
    "# 'Members' to int64\n",
    "raw_df['Members'] = raw_df['Members'].astype(str).str.replace(',', '', regex=False)\n",
    "raw_df['Members'] = pd.to_numeric(raw_df['Members'], errors='coerce').fillna(0).astype(np.int64)\n",
    "\n",
    "# 'Favorite' to int64\n",
    "raw_df['Favorite'] = raw_df['Favorite'].astype(str).str.replace(',', '', regex=False)\n",
    "raw_df['Favorite'] = pd.to_numeric(raw_df['Favorite'], errors='coerce').fillna(0).astype(np.int64)\n"
   ]
  },
  {
   "cell_type": "code",
   "execution_count": 18,
   "metadata": {
    "colab": {
     "base_uri": "https://localhost:8080/",
     "height": 743
    },
    "id": "zM4w_kzqAYbd",
    "outputId": "a1c92eef-b6a0-44c4-f274-02721555cea6"
   },
   "outputs": [
    {
     "data": {
      "text/plain": [
       "Title              object\n",
       "Score             float64\n",
       "Vote                int64\n",
       "Ranked              int64\n",
       "Popularity          int64\n",
       "Members             int64\n",
       "Favorite            int64\n",
       "Types              object\n",
       "Volumes            object\n",
       "Chapters           object\n",
       "Status             object\n",
       "Published          object\n",
       "Genres             object\n",
       "Themes             object\n",
       "Demographic        object\n",
       "Serialization      object\n",
       "Author             object\n",
       "Total Review        int64\n",
       "Type Review        object\n",
       "Released date      object\n",
       "Completed date     object\n",
       "dtype: object"
      ]
     },
     "execution_count": 18,
     "metadata": {},
     "output_type": "execute_result"
    }
   ],
   "source": [
    "raw_df.dtypes"
   ]
  },
  {
   "cell_type": "markdown",
   "metadata": {
    "id": "RULXKALI8rUA"
   },
   "source": [
    "### 4.6. Xử lý dữ liệu cột `Volumes` và `Chapters`"
   ]
  },
  {
   "cell_type": "markdown",
   "metadata": {},
   "source": [
    "Nhóm sẽ tính toán tỉ lệ phần trăm các giá trị `Unknown` và `0` trong cột `Volumes` và `Chapters`. `Mising ratio` trong 2 cột này bằng $0$ do chúng chứa dữ liệu `Unknown` và `0` thay vì để trống hoặc là `NaN`"
   ]
  },
  {
   "cell_type": "code",
   "execution_count": 19,
   "metadata": {
    "colab": {
     "base_uri": "https://localhost:8080/"
    },
    "id": "vZqZ361x_iPv",
    "outputId": "f0fc9f98-b7bd-4e55-ee26-8c189e763881"
   },
   "outputs": [
    {
     "name": "stdout",
     "output_type": "stream",
     "text": [
      "'Unknown' values in 'Chapters': 22.03%\n",
      "'Unknown' values in 'Volumes': 30.65%\n",
      "'0' values in 'Chapters': 0.00%\n",
      "'0' values in 'Volumes': 0.00%\n"
     ]
    }
   ],
   "source": [
    "# Tính tỉ lệ giá trị 'unknown' trong 'Chapters' và 'Volumes'\n",
    "unknown_chapters_percentage = (raw_df['Chapters'] == 'Unknown').sum() / len(raw_df) * 100\n",
    "unknown_volumes_percentage = (raw_df['Volumes'] == 'Unknown').sum() / len(raw_df) * 100\n",
    "\n",
    "# Tính tỉ lệ giá trị '0' trong 'Chapters' và 'Volumes'\n",
    "zero_chapters_percentage = (raw_df['Chapters'] == 0).sum() / len(raw_df) * 100\n",
    "zero_volumes_percentage = (raw_df['Volumes'] == 0).sum() / len(raw_df) * 100\n",
    "\n",
    "print(f\"'Unknown' values in 'Chapters': {unknown_chapters_percentage:.2f}%\")\n",
    "print(f\"'Unknown' values in 'Volumes': {unknown_volumes_percentage:.2f}%\")\n",
    "print(f\"'0' values in 'Chapters': {zero_chapters_percentage:.2f}%\")\n",
    "print(f\"'0' values in 'Volumes': {zero_volumes_percentage:.2f}%\")"
   ]
  },
  {
   "cell_type": "code",
   "execution_count": 20,
   "metadata": {
    "colab": {
     "base_uri": "https://localhost:8080/"
    },
    "id": "nLEUTV_p7y4B",
    "outputId": "8d611d65-75d5-4d3b-ed85-bff2d507a01f"
   },
   "outputs": [
    {
     "name": "stdout",
     "output_type": "stream",
     "text": [
      "Quartiles for Volumes: [0. 1. 4.]\n",
      "Quartiles for Chapters: [ 1.  9. 30.]\n",
      "Percentage of Volumes:\n",
      "0-25%: 30.65%\n",
      "25-50%: 21.82%\n",
      "50-75%: 24.40%\n",
      "75-100%: 23.13%\n",
      "\n",
      "Percentage of Chapters:\n",
      "0-25%: 30.90%\n",
      "25-50%: 19.84%\n",
      "50-75%: 24.32%\n",
      "75-100%: 24.95%\n"
     ]
    }
   ],
   "source": [
    "# Chuyển 'Volumes' và 'Chapters' sang int64\n",
    "raw_df['Volumes'] = pd.to_numeric(raw_df['Volumes'], errors='coerce').fillna(0).astype(np.int64)\n",
    "raw_df['Chapters'] = pd.to_numeric(raw_df['Chapters'], errors='coerce').fillna(0).astype(np.int64)\n",
    "\n",
    "# Tính toán quartiles cho 'Volumes'\n",
    "quartiles_volumes = np.percentile(raw_df['Volumes'], [25, 50, 75])\n",
    "print(\"Quartiles for Volumes:\", quartiles_volumes)\n",
    "\n",
    "# Tính toán quartiles cho 'Chapters'\n",
    "quartiles_chapters = np.percentile(raw_df['Chapters'], [25, 50, 75])\n",
    "print(\"Quartiles for Chapters:\", quartiles_chapters)\n",
    "\n",
    "# Hàm tính tỉ lệ phần trăm các giá trị trong mỗi khoảng quartile\n",
    "def quartile_percentages(data):\n",
    "    q1, q2, q3 = np.percentile(data, [25, 50, 75])\n",
    "    percentages = {\n",
    "        '0-25%': len(data[data <= q1]) / len(data) * 100,\n",
    "        '25-50%': len(data[(data > q1) & (data <= q2)]) / len(data) * 100,\n",
    "        '50-75%': len(data[(data > q2) & (data <= q3)]) / len(data) * 100,\n",
    "        '75-100%': len(data[data > q3]) / len(data) * 100\n",
    "    }\n",
    "    return percentages\n",
    "\n",
    "# Tỉ lệ phần trăm của 'Volumes'\n",
    "volumes_percentages = quartile_percentages(raw_df['Volumes'])\n",
    "print(\"Percentage of Volumes:\")\n",
    "for range, percentage in volumes_percentages.items():\n",
    "    print(f\"{range}: {percentage:.2f}%\")\n",
    "\n",
    "# Tỉ lệ phần trăm của 'Chapters'\n",
    "chapters_percentages = quartile_percentages(raw_df['Chapters'])\n",
    "print(\"\\nPercentage of Chapters:\")\n",
    "for range, percentage in chapters_percentages.items():\n",
    "    print(f\"{range}: {percentage:.2f}%\")\n"
   ]
  },
  {
   "cell_type": "code",
   "execution_count": 21,
   "metadata": {
    "colab": {
     "base_uri": "https://localhost:8080/"
    },
    "id": "Hik2YQbU9TY5",
    "outputId": "c6010883-a394-469d-884f-93719daf7441"
   },
   "outputs": [
    {
     "name": "stdout",
     "output_type": "stream",
     "text": [
      "Percentage of Volumes:\n",
      "0-25%: 31.67%\n",
      "25-50%: 39.33%\n",
      "50-75%: 5.86%\n",
      "75-100%: 23.13%\n",
      "\n",
      "Percentage of Chapters:\n",
      "0-25%: 27.08%\n",
      "25-50%: 34.93%\n",
      "50-75%: 13.04%\n",
      "75-100%: 24.95%\n"
     ]
    }
   ],
   "source": [
    "# Tính toán trung vị của 'Chapters' and 'Volumes', ngoại trừ zeros\n",
    "median_chapters = raw_df.loc[raw_df['Chapters'] != 0, 'Chapters'].median()\n",
    "median_volumes = raw_df.loc[raw_df['Volumes'] != 0, 'Volumes'].median()\n",
    "\n",
    "# Thay zeros trong 'Chapters' và 'Volumes' với giá trị median của từng cột\n",
    "raw_df['Chapters'] = raw_df['Chapters'].replace(0, median_chapters)\n",
    "raw_df['Volumes'] = raw_df['Volumes'].replace(0, median_volumes)\n",
    "\n",
    "# Tính toán và in ra giá trị percentages cho 'Volumes'\n",
    "volumes_percentages = quartile_percentages(raw_df['Volumes'])\n",
    "print(\"Percentage of Volumes:\")\n",
    "for range, percentage in volumes_percentages.items():\n",
    "    print(f\"{range}: {percentage:.2f}%\")\n",
    "\n",
    "# Tính toán và in ra giá trị percentages cho 'Chapters'\n",
    "chapters_percentages = quartile_percentages(raw_df['Chapters'])\n",
    "print(\"\\nPercentage of Chapters:\")\n",
    "for range, percentage in chapters_percentages.items():\n",
    "    print(f\"{range}: {percentage:.2f}%\")"
   ]
  },
  {
   "cell_type": "markdown",
   "metadata": {
    "id": "dbu5iyzACm-h"
   },
   "source": [
    "### 4.7. Xử lý dữ liệu cột `Type Review`"
   ]
  },
  {
   "cell_type": "markdown",
   "metadata": {},
   "source": [
    "Nhóm sẽ phân tách dữ liệu trong cột `Type Review` thành 3 cột dữ liệu đơn là `Recommended`, `Mixed Feelings`, `Not Recommended` để các công đoạn sau sử dụng dữ liệu dễ dàng hơn."
   ]
  },
  {
   "cell_type": "code",
   "execution_count": 22,
   "metadata": {
    "id": "v7uiLDju-JAR"
   },
   "outputs": [],
   "source": [
    "# Recommended - int64\n",
    "# Mixed Feelings - int64\n",
    "# Not Recommended - int64\n",
    "\n",
    "def split_type_review(type_review_str):\n",
    "    try:\n",
    "        type_review_list = ast.literal_eval(type_review_str)\n",
    "        recommended = type_review_list[0] if len(type_review_list) > 0 else 0\n",
    "        mixed_feelings = type_review_list[1] if len(type_review_list) > 1 else 0\n",
    "        not_recommended = type_review_list[2] if len(type_review_list) > 2 else 0\n",
    "        return recommended, mixed_feelings, not_recommended\n",
    "    except (ValueError, SyntaxError, IndexError):\n",
    "        return 0, 0, 0\n",
    "\n",
    "raw_df[['Recommended', 'Mixed Feelings', 'Not Recommended']] = \\\n",
    "     raw_df['Type Review'].apply(lambda x: pd.Series(split_type_review(x)))"
   ]
  },
  {
   "cell_type": "markdown",
   "metadata": {
    "id": "fYSVzZSsWvHF"
   },
   "source": [
    "### 4.8. Xử lý dữ liệu cột `Author`"
   ]
  },
  {
   "cell_type": "markdown",
   "metadata": {},
   "source": [
    "Do tính đặc thù của dữ liệu cột này cũng như giúp cho các công đoạn sử dụng dữ liệu được dễ dàng hơn, nhóm sẽ điều chỉnh giá trị của cột `Author` từ dạng `string` sang `list`"
   ]
  },
  {
   "cell_type": "code",
   "execution_count": 23,
   "metadata": {},
   "outputs": [],
   "source": [
    "def convert_author_to_list(author_str):\n",
    "    if isinstance(author_str, str):\n",
    "        return [author_str.strip()]\n",
    "    elif pd.isna(author_str):\n",
    "        return []\n",
    "    else:\n",
    "        return []\n",
    "\n",
    "raw_df['Author'] = raw_df['Author'].apply(convert_author_to_list)"
   ]
  },
  {
   "cell_type": "code",
   "execution_count": 24,
   "metadata": {},
   "outputs": [
    {
     "data": {
      "text/html": [
       "<div>\n",
       "<style scoped>\n",
       "    .dataframe tbody tr th:only-of-type {\n",
       "        vertical-align: middle;\n",
       "    }\n",
       "\n",
       "    .dataframe tbody tr th {\n",
       "        vertical-align: top;\n",
       "    }\n",
       "\n",
       "    .dataframe thead th {\n",
       "        text-align: right;\n",
       "    }\n",
       "</style>\n",
       "<table border=\"1\" class=\"dataframe\">\n",
       "  <thead>\n",
       "    <tr style=\"text-align: right;\">\n",
       "      <th></th>\n",
       "      <th>Title</th>\n",
       "      <th>Score</th>\n",
       "      <th>Vote</th>\n",
       "      <th>Ranked</th>\n",
       "      <th>Popularity</th>\n",
       "      <th>Members</th>\n",
       "      <th>Favorite</th>\n",
       "      <th>Types</th>\n",
       "      <th>Volumes</th>\n",
       "      <th>Chapters</th>\n",
       "      <th>...</th>\n",
       "      <th>Demographic</th>\n",
       "      <th>Serialization</th>\n",
       "      <th>Author</th>\n",
       "      <th>Total Review</th>\n",
       "      <th>Type Review</th>\n",
       "      <th>Released date</th>\n",
       "      <th>Completed date</th>\n",
       "      <th>Recommended</th>\n",
       "      <th>Mixed Feelings</th>\n",
       "      <th>Not Recommended</th>\n",
       "    </tr>\n",
       "  </thead>\n",
       "  <tbody>\n",
       "    <tr>\n",
       "      <th>0</th>\n",
       "      <td>Berserk</td>\n",
       "      <td>9.47</td>\n",
       "      <td>363720</td>\n",
       "      <td>1</td>\n",
       "      <td>1</td>\n",
       "      <td>725079</td>\n",
       "      <td>130489</td>\n",
       "      <td>Manga</td>\n",
       "      <td>3</td>\n",
       "      <td>16</td>\n",
       "      <td>...</td>\n",
       "      <td>Seinen</td>\n",
       "      <td>Young Animal</td>\n",
       "      <td>[Miura, Kentarou (Story &amp; Art), Studio Gaga (A...</td>\n",
       "      <td>289</td>\n",
       "      <td>[252, 17, 20]</td>\n",
       "      <td>1989-08-25</td>\n",
       "      <td>Updating</td>\n",
       "      <td>252</td>\n",
       "      <td>17</td>\n",
       "      <td>20</td>\n",
       "    </tr>\n",
       "    <tr>\n",
       "      <th>1</th>\n",
       "      <td>JoJo no Kimyou na Bouken Part 7: Steel Ball Ru...</td>\n",
       "      <td>9.31</td>\n",
       "      <td>172219</td>\n",
       "      <td>2</td>\n",
       "      <td>23</td>\n",
       "      <td>280428</td>\n",
       "      <td>46269</td>\n",
       "      <td>Manga</td>\n",
       "      <td>24</td>\n",
       "      <td>96</td>\n",
       "      <td>...</td>\n",
       "      <td>Seinen</td>\n",
       "      <td>Ultra Jump</td>\n",
       "      <td>[Araki, Hirohiko (Story &amp; Art)]</td>\n",
       "      <td>131</td>\n",
       "      <td>[123, 7, 1]</td>\n",
       "      <td>2004-01-19</td>\n",
       "      <td>2011-04-19</td>\n",
       "      <td>123</td>\n",
       "      <td>7</td>\n",
       "      <td>1</td>\n",
       "    </tr>\n",
       "    <tr>\n",
       "      <th>2</th>\n",
       "      <td>Vagabond</td>\n",
       "      <td>9.26</td>\n",
       "      <td>154583</td>\n",
       "      <td>3</td>\n",
       "      <td>13</td>\n",
       "      <td>406082</td>\n",
       "      <td>44258</td>\n",
       "      <td>Manga</td>\n",
       "      <td>37</td>\n",
       "      <td>327</td>\n",
       "      <td>...</td>\n",
       "      <td>Seinen</td>\n",
       "      <td>Morning</td>\n",
       "      <td>[Inoue, Takehiko (Story &amp; Art), Yoshikawa, Eij...</td>\n",
       "      <td>104</td>\n",
       "      <td>[93, 9, 2]</td>\n",
       "      <td>1998-09-03</td>\n",
       "      <td>2015-05-21</td>\n",
       "      <td>93</td>\n",
       "      <td>9</td>\n",
       "      <td>2</td>\n",
       "    </tr>\n",
       "  </tbody>\n",
       "</table>\n",
       "<p>3 rows × 24 columns</p>\n",
       "</div>"
      ],
      "text/plain": [
       "                                               Title  Score    Vote  Ranked  \\\n",
       "0                                            Berserk   9.47  363720       1   \n",
       "1  JoJo no Kimyou na Bouken Part 7: Steel Ball Ru...   9.31  172219       2   \n",
       "2                                           Vagabond   9.26  154583       3   \n",
       "\n",
       "   Popularity  Members  Favorite  Types  Volumes  Chapters  ... Demographic  \\\n",
       "0           1   725079    130489  Manga        3        16  ...      Seinen   \n",
       "1          23   280428     46269  Manga       24        96  ...      Seinen   \n",
       "2          13   406082     44258  Manga       37       327  ...      Seinen   \n",
       "\n",
       "  Serialization                                             Author  \\\n",
       "0  Young Animal  [Miura, Kentarou (Story & Art), Studio Gaga (A...   \n",
       "1    Ultra Jump                    [Araki, Hirohiko (Story & Art)]   \n",
       "2       Morning  [Inoue, Takehiko (Story & Art), Yoshikawa, Eij...   \n",
       "\n",
       "  Total Review    Type Review Released date Completed date  Recommended  \\\n",
       "0          289  [252, 17, 20]    1989-08-25       Updating          252   \n",
       "1          131    [123, 7, 1]    2004-01-19     2011-04-19          123   \n",
       "2          104     [93, 9, 2]    1998-09-03     2015-05-21           93   \n",
       "\n",
       "  Mixed Feelings Not Recommended  \n",
       "0             17              20  \n",
       "1              7               1  \n",
       "2              9               2  \n",
       "\n",
       "[3 rows x 24 columns]"
      ]
     },
     "execution_count": 24,
     "metadata": {},
     "output_type": "execute_result"
    }
   ],
   "source": [
    "raw_df.head(3)"
   ]
  },
  {
   "cell_type": "markdown",
   "metadata": {},
   "source": [
    "Khi kiểm tra các giá trị của cột `Author`, nhóm thấy vẫn có những đoạn dữ liệu không cần thiết như `(Story & Art)`, `Art`,... Những đoạn dữ liệu này không cần thiết cho nên nhóm sẽ loại bỏ những đoạn dữ liệu đó ra khỏi các dữ liệu cột `Author`"
   ]
  },
  {
   "cell_type": "code",
   "execution_count": 25,
   "metadata": {
    "colab": {
     "base_uri": "https://localhost:8080/"
    },
    "id": "vdI7_AkaWuaM",
    "outputId": "51cd1f98-f806-44ac-f3cb-fd2868e6a37e"
   },
   "outputs": [
    {
     "name": "stdout",
     "output_type": "stream",
     "text": [
      "A\n",
      "Art\n",
      "Story\n",
      "Story & Art\n"
     ]
    }
   ],
   "source": [
    "# Liệt kê các trường hợp\n",
    "def extract_authors(author_list):\n",
    "  authors = set()\n",
    "  for author_str in author_list:\n",
    "    if isinstance(author_str, str):\n",
    "      matches = re.findall(r'\\((.*?)\\)', author_str)\n",
    "      for match in matches:\n",
    "          authors.add(match.strip())\n",
    "  return authors\n",
    "\n",
    "all_authors = set()\n",
    "for index in raw_df.index:\n",
    "  author_list = raw_df.loc[index, 'Author']\n",
    "  if author_list:\n",
    "    extracted_authors = extract_authors(author_list)\n",
    "    all_authors.update(extracted_authors)\n",
    "\n",
    "for author in all_authors:\n",
    "  print(author)"
   ]
  },
  {
   "cell_type": "code",
   "execution_count": 26,
   "metadata": {
    "colab": {
     "base_uri": "https://localhost:8080/",
     "height": 217
    },
    "id": "VP2MBjCTdpuH",
    "outputId": "e86909c1-6a06-4c72-ec57-51903c6401ce"
   },
   "outputs": [
    {
     "data": {
      "text/html": [
       "<div>\n",
       "<style scoped>\n",
       "    .dataframe tbody tr th:only-of-type {\n",
       "        vertical-align: middle;\n",
       "    }\n",
       "\n",
       "    .dataframe tbody tr th {\n",
       "        vertical-align: top;\n",
       "    }\n",
       "\n",
       "    .dataframe thead th {\n",
       "        text-align: right;\n",
       "    }\n",
       "</style>\n",
       "<table border=\"1\" class=\"dataframe\">\n",
       "  <thead>\n",
       "    <tr style=\"text-align: right;\">\n",
       "      <th></th>\n",
       "      <th>Title</th>\n",
       "      <th>Score</th>\n",
       "      <th>Vote</th>\n",
       "      <th>Ranked</th>\n",
       "      <th>Popularity</th>\n",
       "      <th>Members</th>\n",
       "      <th>Favorite</th>\n",
       "      <th>Types</th>\n",
       "      <th>Volumes</th>\n",
       "      <th>Chapters</th>\n",
       "      <th>...</th>\n",
       "      <th>Demographic</th>\n",
       "      <th>Serialization</th>\n",
       "      <th>Author</th>\n",
       "      <th>Total Review</th>\n",
       "      <th>Type Review</th>\n",
       "      <th>Released date</th>\n",
       "      <th>Completed date</th>\n",
       "      <th>Recommended</th>\n",
       "      <th>Mixed Feelings</th>\n",
       "      <th>Not Recommended</th>\n",
       "    </tr>\n",
       "  </thead>\n",
       "  <tbody>\n",
       "    <tr>\n",
       "      <th>8202</th>\n",
       "      <td>Ninja Hattori-kun</td>\n",
       "      <td>7.04</td>\n",
       "      <td>178</td>\n",
       "      <td>8204</td>\n",
       "      <td>26172</td>\n",
       "      <td>411</td>\n",
       "      <td>7</td>\n",
       "      <td>Manga</td>\n",
       "      <td>16</td>\n",
       "      <td>16</td>\n",
       "      <td>...</td>\n",
       "      <td>Shounen</td>\n",
       "      <td>Shounen</td>\n",
       "      <td>[Fujiko, Fujio (A) (Story &amp; Art)]</td>\n",
       "      <td>0</td>\n",
       "      <td>[0, 0, 0]</td>\n",
       "      <td>1964-01-01</td>\n",
       "      <td>1968-01-01</td>\n",
       "      <td>0</td>\n",
       "      <td>0</td>\n",
       "      <td>0</td>\n",
       "    </tr>\n",
       "  </tbody>\n",
       "</table>\n",
       "<p>1 rows × 24 columns</p>\n",
       "</div>"
      ],
      "text/plain": [
       "                  Title  Score  Vote  Ranked  Popularity  Members  Favorite  \\\n",
       "8202  Ninja Hattori-kun   7.04   178    8204       26172      411         7   \n",
       "\n",
       "      Types  Volumes  Chapters  ... Demographic Serialization  \\\n",
       "8202  Manga       16        16  ...     Shounen       Shounen   \n",
       "\n",
       "                                 Author Total Review Type Review  \\\n",
       "8202  [Fujiko, Fujio (A) (Story & Art)]            0   [0, 0, 0]   \n",
       "\n",
       "     Released date Completed date  Recommended Mixed Feelings Not Recommended  \n",
       "8202    1964-01-01     1968-01-01            0              0               0  \n",
       "\n",
       "[1 rows x 24 columns]"
      ]
     },
     "execution_count": 26,
     "metadata": {},
     "output_type": "execute_result"
    }
   ],
   "source": [
    "# Tìm dữ liệu cột 'Author' chứa '(A)'\n",
    "rows_with_A = raw_df[raw_df['Author'].astype(str).str.contains(r'\\(A\\)')]\n",
    "\n",
    "# Print the rows\n",
    "rows_with_A"
   ]
  },
  {
   "cell_type": "code",
   "execution_count": 27,
   "metadata": {
    "id": "d0JZmTVjeAXY"
   },
   "outputs": [],
   "source": [
    "def remove_parentheses_substring(author_list):\n",
    "  cleaned_authors = []\n",
    "  for author_str in author_list:\n",
    "    if isinstance(author_str, str):\n",
    "      cleaned_str = re.sub(r'\\(.*?\\)', '', author_str).strip()\n",
    "      if cleaned_str:  # Check if the string is not empty after removal\n",
    "        cleaned_authors.append(cleaned_str)\n",
    "    elif isinstance(author_str, list):\n",
    "        cleaned_authors.extend(remove_parentheses_substring(author_str))\n",
    "  return cleaned_authors\n",
    "\n",
    "raw_df['Author'] = raw_df['Author'].apply(remove_parentheses_substring)"
   ]
  },
  {
   "cell_type": "code",
   "execution_count": 28,
   "metadata": {
    "colab": {
     "base_uri": "https://localhost:8080/",
     "height": 812
    },
    "id": "RtuDMlmMfQ_Z",
    "outputId": "2e46efb5-4ffc-47fa-e582-6557d0735d42"
   },
   "outputs": [
    {
     "data": {
      "text/html": [
       "<div>\n",
       "<style scoped>\n",
       "    .dataframe tbody tr th:only-of-type {\n",
       "        vertical-align: middle;\n",
       "    }\n",
       "\n",
       "    .dataframe tbody tr th {\n",
       "        vertical-align: top;\n",
       "    }\n",
       "\n",
       "    .dataframe thead th {\n",
       "        text-align: right;\n",
       "    }\n",
       "</style>\n",
       "<table border=\"1\" class=\"dataframe\">\n",
       "  <thead>\n",
       "    <tr style=\"text-align: right;\">\n",
       "      <th></th>\n",
       "      <th>Title</th>\n",
       "      <th>Score</th>\n",
       "      <th>Vote</th>\n",
       "      <th>Ranked</th>\n",
       "      <th>Popularity</th>\n",
       "      <th>Members</th>\n",
       "      <th>Favorite</th>\n",
       "      <th>Types</th>\n",
       "      <th>Volumes</th>\n",
       "      <th>Chapters</th>\n",
       "      <th>...</th>\n",
       "      <th>Demographic</th>\n",
       "      <th>Serialization</th>\n",
       "      <th>Author</th>\n",
       "      <th>Total Review</th>\n",
       "      <th>Type Review</th>\n",
       "      <th>Released date</th>\n",
       "      <th>Completed date</th>\n",
       "      <th>Recommended</th>\n",
       "      <th>Mixed Feelings</th>\n",
       "      <th>Not Recommended</th>\n",
       "    </tr>\n",
       "  </thead>\n",
       "  <tbody>\n",
       "    <tr>\n",
       "      <th>0</th>\n",
       "      <td>Berserk</td>\n",
       "      <td>9.47</td>\n",
       "      <td>363720</td>\n",
       "      <td>1</td>\n",
       "      <td>1</td>\n",
       "      <td>725079</td>\n",
       "      <td>130489</td>\n",
       "      <td>Manga</td>\n",
       "      <td>3</td>\n",
       "      <td>16</td>\n",
       "      <td>...</td>\n",
       "      <td>Seinen</td>\n",
       "      <td>Young Animal</td>\n",
       "      <td>['Miura,Kentarou', 'Studio Gaga']</td>\n",
       "      <td>289</td>\n",
       "      <td>[252, 17, 20]</td>\n",
       "      <td>1989-08-25</td>\n",
       "      <td>Updating</td>\n",
       "      <td>252</td>\n",
       "      <td>17</td>\n",
       "      <td>20</td>\n",
       "    </tr>\n",
       "    <tr>\n",
       "      <th>1</th>\n",
       "      <td>JoJo no Kimyou na Bouken Part 7: Steel Ball Ru...</td>\n",
       "      <td>9.31</td>\n",
       "      <td>172219</td>\n",
       "      <td>2</td>\n",
       "      <td>23</td>\n",
       "      <td>280428</td>\n",
       "      <td>46269</td>\n",
       "      <td>Manga</td>\n",
       "      <td>24</td>\n",
       "      <td>96</td>\n",
       "      <td>...</td>\n",
       "      <td>Seinen</td>\n",
       "      <td>Ultra Jump</td>\n",
       "      <td>['Araki,Hirohiko']</td>\n",
       "      <td>131</td>\n",
       "      <td>[123, 7, 1]</td>\n",
       "      <td>2004-01-19</td>\n",
       "      <td>2011-04-19</td>\n",
       "      <td>123</td>\n",
       "      <td>7</td>\n",
       "      <td>1</td>\n",
       "    </tr>\n",
       "    <tr>\n",
       "      <th>2</th>\n",
       "      <td>Vagabond</td>\n",
       "      <td>9.26</td>\n",
       "      <td>154583</td>\n",
       "      <td>3</td>\n",
       "      <td>13</td>\n",
       "      <td>406082</td>\n",
       "      <td>44258</td>\n",
       "      <td>Manga</td>\n",
       "      <td>37</td>\n",
       "      <td>327</td>\n",
       "      <td>...</td>\n",
       "      <td>Seinen</td>\n",
       "      <td>Morning</td>\n",
       "      <td>['Inoue,Takehiko', 'Yoshikawa,Eiji']</td>\n",
       "      <td>104</td>\n",
       "      <td>[93, 9, 2]</td>\n",
       "      <td>1998-09-03</td>\n",
       "      <td>2015-05-21</td>\n",
       "      <td>93</td>\n",
       "      <td>9</td>\n",
       "      <td>2</td>\n",
       "    </tr>\n",
       "    <tr>\n",
       "      <th>3</th>\n",
       "      <td>One Piece</td>\n",
       "      <td>9.22</td>\n",
       "      <td>392811</td>\n",
       "      <td>4</td>\n",
       "      <td>4</td>\n",
       "      <td>642620</td>\n",
       "      <td>119974</td>\n",
       "      <td>Manga</td>\n",
       "      <td>3</td>\n",
       "      <td>16</td>\n",
       "      <td>...</td>\n",
       "      <td>Shounen</td>\n",
       "      <td>Shounen Jump (Weekly)</td>\n",
       "      <td>['Oda,Eiichiro']</td>\n",
       "      <td>231</td>\n",
       "      <td>[190, 21, 20]</td>\n",
       "      <td>1997-07-22</td>\n",
       "      <td>Updating</td>\n",
       "      <td>190</td>\n",
       "      <td>21</td>\n",
       "      <td>20</td>\n",
       "    </tr>\n",
       "    <tr>\n",
       "      <th>4</th>\n",
       "      <td>Monster</td>\n",
       "      <td>9.16</td>\n",
       "      <td>104327</td>\n",
       "      <td>5</td>\n",
       "      <td>29</td>\n",
       "      <td>258581</td>\n",
       "      <td>22008</td>\n",
       "      <td>Manga</td>\n",
       "      <td>18</td>\n",
       "      <td>162</td>\n",
       "      <td>...</td>\n",
       "      <td>Seinen</td>\n",
       "      <td>Big Comic Original</td>\n",
       "      <td>['Urasawa,Naoki']</td>\n",
       "      <td>86</td>\n",
       "      <td>[69, 11, 6]</td>\n",
       "      <td>1994-12-05</td>\n",
       "      <td>2001-12-20</td>\n",
       "      <td>69</td>\n",
       "      <td>11</td>\n",
       "      <td>6</td>\n",
       "    </tr>\n",
       "  </tbody>\n",
       "</table>\n",
       "<p>5 rows × 24 columns</p>\n",
       "</div>"
      ],
      "text/plain": [
       "                                               Title  Score    Vote  Ranked  \\\n",
       "0                                            Berserk   9.47  363720       1   \n",
       "1  JoJo no Kimyou na Bouken Part 7: Steel Ball Ru...   9.31  172219       2   \n",
       "2                                           Vagabond   9.26  154583       3   \n",
       "3                                          One Piece   9.22  392811       4   \n",
       "4                                            Monster   9.16  104327       5   \n",
       "\n",
       "   Popularity  Members  Favorite  Types  Volumes  Chapters  ... Demographic  \\\n",
       "0           1   725079    130489  Manga        3        16  ...      Seinen   \n",
       "1          23   280428     46269  Manga       24        96  ...      Seinen   \n",
       "2          13   406082     44258  Manga       37       327  ...      Seinen   \n",
       "3           4   642620    119974  Manga        3        16  ...     Shounen   \n",
       "4          29   258581     22008  Manga       18       162  ...      Seinen   \n",
       "\n",
       "           Serialization                                Author Total Review  \\\n",
       "0           Young Animal     ['Miura,Kentarou', 'Studio Gaga']          289   \n",
       "1             Ultra Jump                    ['Araki,Hirohiko']          131   \n",
       "2                Morning  ['Inoue,Takehiko', 'Yoshikawa,Eiji']          104   \n",
       "3  Shounen Jump (Weekly)                      ['Oda,Eiichiro']          231   \n",
       "4     Big Comic Original                     ['Urasawa,Naoki']           86   \n",
       "\n",
       "     Type Review Released date Completed date  Recommended Mixed Feelings  \\\n",
       "0  [252, 17, 20]    1989-08-25       Updating          252             17   \n",
       "1    [123, 7, 1]    2004-01-19     2011-04-19          123              7   \n",
       "2     [93, 9, 2]    1998-09-03     2015-05-21           93              9   \n",
       "3  [190, 21, 20]    1997-07-22       Updating          190             21   \n",
       "4    [69, 11, 6]    1994-12-05     2001-12-20           69             11   \n",
       "\n",
       "  Not Recommended  \n",
       "0              20  \n",
       "1               1  \n",
       "2               2  \n",
       "3              20  \n",
       "4               6  \n",
       "\n",
       "[5 rows x 24 columns]"
      ]
     },
     "execution_count": 28,
     "metadata": {},
     "output_type": "execute_result"
    }
   ],
   "source": [
    "def format_author(author_list):\n",
    "    formatted_authors = []\n",
    "    for author_str in author_list:\n",
    "        if isinstance(author_str, str):\n",
    "            # Split the string by comma and strip extra spaces\n",
    "            parts = [part.strip() for part in author_str.split(',')]\n",
    "            # Remove empty strings (if any)\n",
    "            parts = [part for part in parts if part]\n",
    "            # If there are at least two parts, combine first part and last part correctly\n",
    "            while len(parts) >= 2:\n",
    "              author_name = \"'\" + parts[0] + ',' + parts[1] + \"'\"\n",
    "              formatted_authors.append(author_name)\n",
    "              parts = parts[2:]\n",
    "            if parts:\n",
    "              author_name = \"'\" + parts[0] + \"'\"\n",
    "              formatted_authors.append(author_name)\n",
    "        elif isinstance(author_str, list):\n",
    "            formatted_authors.extend(format_author(author_str))  # Handle nested lists\n",
    "    return formatted_authors\n",
    "\n",
    "# Assuming raw_df is already defined and has a column 'Author'\n",
    "raw_df['Author'] = raw_df['Author'].apply(format_author)\n",
    "raw_df.head(5)"
   ]
  },
  {
   "cell_type": "markdown",
   "metadata": {
    "id": "xuKpcjBot91f"
   },
   "source": [
    "# 5. Chuẩn hóa bộ dữ liệu"
   ]
  },
  {
   "cell_type": "markdown",
   "metadata": {},
   "source": [
    "Để dữ liệu trở nên gọn gàng và sạch hơn, nhóm sẽ chuẩn hóa bộ dữ liệu lại như sau:"
   ]
  },
  {
   "cell_type": "markdown",
   "metadata": {
    "id": "5heU07t2unnX"
   },
   "source": [
    "#### 5.1. Ghép cột `Genres` và cột `Themes` thành 1 cột duy nhất tên là `Genres`"
   ]
  },
  {
   "cell_type": "code",
   "execution_count": 29,
   "metadata": {
    "id": "G16KAIMFwWDe"
   },
   "outputs": [],
   "source": [
    "raw_df['Genres'] = raw_df['Genres'].apply(lambda x: ast.literal_eval(x) if isinstance(x, str) else x)\n",
    "raw_df['Themes'] = raw_df['Themes'].apply(lambda x: ast.literal_eval(x) if isinstance(x, str) else x)\n",
    "raw_df['Genres'] = raw_df.apply(lambda row: (row['Genres'] or []) + (row['Themes'] or [])\n",
    "                                if isinstance(row['Genres'], list) and isinstance(row['Themes'], list) else row['Genres'], axis=1)"
   ]
  },
  {
   "cell_type": "code",
   "execution_count": 30,
   "metadata": {
    "id": "j98AplFWyEDw"
   },
   "outputs": [],
   "source": [
    "raw_df = raw_df.drop(columns=['Themes'])"
   ]
  },
  {
   "cell_type": "code",
   "execution_count": 31,
   "metadata": {
    "colab": {
     "base_uri": "https://localhost:8080/",
     "height": 812
    },
    "id": "DKFSq3c2xvrt",
    "outputId": "ba0b734f-005e-4a76-e8b2-798a2901afdb"
   },
   "outputs": [
    {
     "data": {
      "text/html": [
       "<div>\n",
       "<style scoped>\n",
       "    .dataframe tbody tr th:only-of-type {\n",
       "        vertical-align: middle;\n",
       "    }\n",
       "\n",
       "    .dataframe tbody tr th {\n",
       "        vertical-align: top;\n",
       "    }\n",
       "\n",
       "    .dataframe thead th {\n",
       "        text-align: right;\n",
       "    }\n",
       "</style>\n",
       "<table border=\"1\" class=\"dataframe\">\n",
       "  <thead>\n",
       "    <tr style=\"text-align: right;\">\n",
       "      <th></th>\n",
       "      <th>Title</th>\n",
       "      <th>Score</th>\n",
       "      <th>Vote</th>\n",
       "      <th>Ranked</th>\n",
       "      <th>Popularity</th>\n",
       "      <th>Members</th>\n",
       "      <th>Favorite</th>\n",
       "      <th>Types</th>\n",
       "      <th>Volumes</th>\n",
       "      <th>Chapters</th>\n",
       "      <th>...</th>\n",
       "      <th>Demographic</th>\n",
       "      <th>Serialization</th>\n",
       "      <th>Author</th>\n",
       "      <th>Total Review</th>\n",
       "      <th>Type Review</th>\n",
       "      <th>Released date</th>\n",
       "      <th>Completed date</th>\n",
       "      <th>Recommended</th>\n",
       "      <th>Mixed Feelings</th>\n",
       "      <th>Not Recommended</th>\n",
       "    </tr>\n",
       "  </thead>\n",
       "  <tbody>\n",
       "    <tr>\n",
       "      <th>0</th>\n",
       "      <td>Berserk</td>\n",
       "      <td>9.47</td>\n",
       "      <td>363720</td>\n",
       "      <td>1</td>\n",
       "      <td>1</td>\n",
       "      <td>725079</td>\n",
       "      <td>130489</td>\n",
       "      <td>Manga</td>\n",
       "      <td>3</td>\n",
       "      <td>16</td>\n",
       "      <td>...</td>\n",
       "      <td>Seinen</td>\n",
       "      <td>Young Animal</td>\n",
       "      <td>['Miura,Kentarou', 'Studio Gaga']</td>\n",
       "      <td>289</td>\n",
       "      <td>[252, 17, 20]</td>\n",
       "      <td>1989-08-25</td>\n",
       "      <td>Updating</td>\n",
       "      <td>252</td>\n",
       "      <td>17</td>\n",
       "      <td>20</td>\n",
       "    </tr>\n",
       "    <tr>\n",
       "      <th>1</th>\n",
       "      <td>JoJo no Kimyou na Bouken Part 7: Steel Ball Ru...</td>\n",
       "      <td>9.31</td>\n",
       "      <td>172219</td>\n",
       "      <td>2</td>\n",
       "      <td>23</td>\n",
       "      <td>280428</td>\n",
       "      <td>46269</td>\n",
       "      <td>Manga</td>\n",
       "      <td>24</td>\n",
       "      <td>96</td>\n",
       "      <td>...</td>\n",
       "      <td>Seinen</td>\n",
       "      <td>Ultra Jump</td>\n",
       "      <td>['Araki,Hirohiko']</td>\n",
       "      <td>131</td>\n",
       "      <td>[123, 7, 1]</td>\n",
       "      <td>2004-01-19</td>\n",
       "      <td>2011-04-19</td>\n",
       "      <td>123</td>\n",
       "      <td>7</td>\n",
       "      <td>1</td>\n",
       "    </tr>\n",
       "    <tr>\n",
       "      <th>2</th>\n",
       "      <td>Vagabond</td>\n",
       "      <td>9.26</td>\n",
       "      <td>154583</td>\n",
       "      <td>3</td>\n",
       "      <td>13</td>\n",
       "      <td>406082</td>\n",
       "      <td>44258</td>\n",
       "      <td>Manga</td>\n",
       "      <td>37</td>\n",
       "      <td>327</td>\n",
       "      <td>...</td>\n",
       "      <td>Seinen</td>\n",
       "      <td>Morning</td>\n",
       "      <td>['Inoue,Takehiko', 'Yoshikawa,Eiji']</td>\n",
       "      <td>104</td>\n",
       "      <td>[93, 9, 2]</td>\n",
       "      <td>1998-09-03</td>\n",
       "      <td>2015-05-21</td>\n",
       "      <td>93</td>\n",
       "      <td>9</td>\n",
       "      <td>2</td>\n",
       "    </tr>\n",
       "  </tbody>\n",
       "</table>\n",
       "<p>3 rows × 23 columns</p>\n",
       "</div>"
      ],
      "text/plain": [
       "                                               Title  Score    Vote  Ranked  \\\n",
       "0                                            Berserk   9.47  363720       1   \n",
       "1  JoJo no Kimyou na Bouken Part 7: Steel Ball Ru...   9.31  172219       2   \n",
       "2                                           Vagabond   9.26  154583       3   \n",
       "\n",
       "   Popularity  Members  Favorite  Types  Volumes  Chapters  ... Demographic  \\\n",
       "0           1   725079    130489  Manga        3        16  ...      Seinen   \n",
       "1          23   280428     46269  Manga       24        96  ...      Seinen   \n",
       "2          13   406082     44258  Manga       37       327  ...      Seinen   \n",
       "\n",
       "  Serialization                                Author Total Review  \\\n",
       "0  Young Animal     ['Miura,Kentarou', 'Studio Gaga']          289   \n",
       "1    Ultra Jump                    ['Araki,Hirohiko']          131   \n",
       "2       Morning  ['Inoue,Takehiko', 'Yoshikawa,Eiji']          104   \n",
       "\n",
       "     Type Review Released date  Completed date Recommended Mixed Feelings  \\\n",
       "0  [252, 17, 20]    1989-08-25        Updating         252             17   \n",
       "1    [123, 7, 1]    2004-01-19      2011-04-19         123              7   \n",
       "2     [93, 9, 2]    1998-09-03      2015-05-21          93              9   \n",
       "\n",
       "  Not Recommended  \n",
       "0              20  \n",
       "1               1  \n",
       "2               2  \n",
       "\n",
       "[3 rows x 23 columns]"
      ]
     },
     "execution_count": 31,
     "metadata": {},
     "output_type": "execute_result"
    }
   ],
   "source": [
    "raw_df.head(3)"
   ]
  },
  {
   "cell_type": "markdown",
   "metadata": {
    "id": "V4zUN2er4Bx8"
   },
   "source": [
    "### 5.2. Sau khi ghép xong, kiểm tra dòng nào nếu không có dữ liệu của cột `Genres`, thì sẽ tiến hành xóa dòng đó đi"
   ]
  },
  {
   "cell_type": "code",
   "execution_count": 32,
   "metadata": {
    "colab": {
     "base_uri": "https://localhost:8080/"
    },
    "id": "5XL740004Ef-",
    "outputId": "cc55376a-91df-4dbe-b510-0810d8df8a6d"
   },
   "outputs": [
    {
     "name": "stdout",
     "output_type": "stream",
     "text": [
      "Percentage of NaN values in 'Genres': 2.62%\n",
      "Percentage of empty lists in 'Genres': 0.00%\n",
      "Total percentage of missing values (NaN or empty lists) in 'Genres': 2.62%\n"
     ]
    }
   ],
   "source": [
    "# Calculate the percentage of missing values (NaN) in the 'Genres' column\n",
    "missing_genres_nan = raw_df['Genres'].isnull().sum()\n",
    "percentage_missing_genres_nan = (missing_genres_nan / len(raw_df)) * 100\n",
    "\n",
    "# Calculate the percentage of empty lists in the 'Genres' column\n",
    "empty_genres_list = raw_df['Genres'].apply(lambda x: isinstance(x, list) and len(x) == 0).sum()\n",
    "percentage_empty_genres_list = (empty_genres_list / len(raw_df)) * 100\n",
    "\n",
    "# Calculate the total percentage of missing values (NaN or empty lists)\n",
    "total_missing_genres = missing_genres_nan + empty_genres_list\n",
    "percentage_total_missing_genres = (total_missing_genres / len(raw_df)) * 100\n",
    "\n",
    "print(f\"Percentage of NaN values in 'Genres': {percentage_missing_genres_nan:.2f}%\")\n",
    "print(f\"Percentage of empty lists in 'Genres': {percentage_empty_genres_list:.2f}%\")\n",
    "print(f\"Total percentage of missing values (NaN or empty lists) in 'Genres': {percentage_total_missing_genres:.2f}%\")"
   ]
  },
  {
   "cell_type": "code",
   "execution_count": 33,
   "metadata": {
    "id": "Bw83wXiK4aQn"
   },
   "outputs": [],
   "source": [
    "# Assuming 'raw_df' is your DataFrame\n",
    "raw_df = raw_df.dropna(subset=['Genres'])\n",
    "#Further remove rows where Genres is an empty list\n",
    "raw_df = raw_df[raw_df['Genres'].apply(lambda x: isinstance(x, list) and len(x) > 0)]"
   ]
  },
  {
   "cell_type": "code",
   "execution_count": 34,
   "metadata": {
    "colab": {
     "base_uri": "https://localhost:8080/"
    },
    "id": "zsyeQyJb4hXO",
    "outputId": "621caa21-e4ad-4011-f339-e1c0fea5a837"
   },
   "outputs": [
    {
     "name": "stdout",
     "output_type": "stream",
     "text": [
      "Percentage of NaN values in 'Genres': 0.00%\n",
      "Percentage of empty lists in 'Genres': 0.00%\n"
     ]
    }
   ],
   "source": [
    "missing_genres_nan = raw_df['Genres'].isnull().sum()\n",
    "percentage_missing_genres_nan = (missing_genres_nan / len(raw_df)) * 100\n",
    "\n",
    "empty_genres_list = raw_df['Genres'].apply(lambda x: isinstance(x, list) and len(x) == 0).sum()\n",
    "percentage_empty_genres_list = (empty_genres_list / len(raw_df)) * 100\n",
    "\n",
    "print(f\"Percentage of NaN values in 'Genres': {percentage_missing_genres_nan:.2f}%\")\n",
    "print(f\"Percentage of empty lists in 'Genres': {percentage_empty_genres_list:.2f}%\")"
   ]
  },
  {
   "cell_type": "markdown",
   "metadata": {
    "id": "QawcDB954wCg"
   },
   "source": [
    "### 5.3. Xóa đi cột `Published` để không có các thuộc tính trùng nhau về ý nghĩa"
   ]
  },
  {
   "cell_type": "markdown",
   "metadata": {},
   "source": [
    "Do trong bộ dữ liệu đã có 2 cột dữ liệu là `Released date` và `Completed date`, cho nên nhóm sẽ xóa cột `Published` để bộ dữ liệu không chứa các thuộc tính trùng nhau về ý nghĩa"
   ]
  },
  {
   "cell_type": "code",
   "execution_count": 35,
   "metadata": {
    "id": "z3mcWQg741Ho"
   },
   "outputs": [],
   "source": [
    "raw_df = raw_df.drop(columns=['Published'])"
   ]
  },
  {
   "cell_type": "markdown",
   "metadata": {
    "id": "OpUrtXNP6JPI"
   },
   "source": [
    "### 5.4. Kiểm tra xem tổng của `Type Review` có bằng `Total Review` không?"
   ]
  },
  {
   "cell_type": "code",
   "execution_count": 36,
   "metadata": {
    "colab": {
     "base_uri": "https://localhost:8080/"
    },
    "id": "Dj-iu0Yv6Qv2",
    "outputId": "fe89ba25-2562-42c2-a446-791ff0c02fc7"
   },
   "outputs": [
    {
     "name": "stdout",
     "output_type": "stream",
     "text": [
      "Số giá trị của 'Total Review' khác tổng các cột 'Type Review': 0\n"
     ]
    }
   ],
   "source": [
    "diff_count = 0\n",
    "for index, row in raw_df.iterrows():\n",
    "    total_review = row['Total Review']\n",
    "    sum_type_review = row['Recommended'] + row['Mixed Feelings'] + row['Not Recommended']\n",
    "    if total_review != sum_type_review:\n",
    "      diff_count += 1\n",
    "\n",
    "print(f\"Số giá trị của 'Total Review' khác tổng các cột 'Type Review': {diff_count}\")"
   ]
  },
  {
   "cell_type": "markdown",
   "metadata": {},
   "source": [
    "Từ đây nhóm thấy được bộ dữ liệu được xử lý tốt."
   ]
  },
  {
   "cell_type": "markdown",
   "metadata": {
    "id": "4S0xKpyE69d6"
   },
   "source": [
    "### 5.5. Xóa cột `Type Review` để không có các thuộc tính trùng nhau về ý nghĩa"
   ]
  },
  {
   "cell_type": "markdown",
   "metadata": {},
   "source": [
    "Tương tự như trường hợp của cột `Published`, trong bộ dữ liệu đã có 3 cột dữ liệu là `Recommended`, `Mixed Feelings`, `Not Recommended`, cho nên nhóm sẽ xóa cột `Type Review` để bộ dữ liệu không chứa các thuộc tính trùng nhau về ý nghĩa."
   ]
  },
  {
   "cell_type": "code",
   "execution_count": 37,
   "metadata": {
    "id": "KKKU3VvK7BL2"
   },
   "outputs": [],
   "source": [
    "raw_df = raw_df.drop(columns=['Type Review'])"
   ]
  },
  {
   "cell_type": "markdown",
   "metadata": {
    "id": "Znfhxt2k88DZ"
   },
   "source": [
    "### 5.6. Sắp xếp lại thứ tự các cột"
   ]
  },
  {
   "cell_type": "markdown",
   "metadata": {},
   "source": [
    "Nhóm sẽ sắp xếp lại thứ tự các cột để dữ liệu dễ nhìn và dễ phân tích hơn"
   ]
  },
  {
   "cell_type": "code",
   "execution_count": 38,
   "metadata": {
    "colab": {
     "base_uri": "https://localhost:8080/"
    },
    "id": "2Rwy8jls3OSG",
    "outputId": "99757eed-f5a8-43a4-f30c-6bc954d7256f"
   },
   "outputs": [
    {
     "name": "stdout",
     "output_type": "stream",
     "text": [
      "Index(['Title', 'Score', 'Vote', 'Ranked', 'Popularity', 'Members', 'Favorite',\n",
      "       'Types', 'Volumes', 'Chapters', 'Status', 'Genres', 'Demographic',\n",
      "       'Serialization', 'Author', 'Total Review', 'Released date',\n",
      "       'Completed date', 'Recommended', 'Mixed Feelings', 'Not Recommended'],\n",
      "      dtype='object')\n"
     ]
    }
   ],
   "source": [
    "print(raw_df.columns)"
   ]
  },
  {
   "cell_type": "code",
   "execution_count": 39,
   "metadata": {
    "colab": {
     "base_uri": "https://localhost:8080/",
     "height": 1000
    },
    "id": "gNrBYKnK87ww",
    "outputId": "d333be60-5bae-4bd3-843a-be76d3a36992"
   },
   "outputs": [
    {
     "data": {
      "text/html": [
       "<div>\n",
       "<style scoped>\n",
       "    .dataframe tbody tr th:only-of-type {\n",
       "        vertical-align: middle;\n",
       "    }\n",
       "\n",
       "    .dataframe tbody tr th {\n",
       "        vertical-align: top;\n",
       "    }\n",
       "\n",
       "    .dataframe thead th {\n",
       "        text-align: right;\n",
       "    }\n",
       "</style>\n",
       "<table border=\"1\" class=\"dataframe\">\n",
       "  <thead>\n",
       "    <tr style=\"text-align: right;\">\n",
       "      <th></th>\n",
       "      <th>Title</th>\n",
       "      <th>Score</th>\n",
       "      <th>Vote</th>\n",
       "      <th>Ranked</th>\n",
       "      <th>Popularity</th>\n",
       "      <th>Members</th>\n",
       "      <th>Favorite</th>\n",
       "      <th>Types</th>\n",
       "      <th>Volumes</th>\n",
       "      <th>Chapters</th>\n",
       "      <th>...</th>\n",
       "      <th>Genres</th>\n",
       "      <th>Demographic</th>\n",
       "      <th>Serialization</th>\n",
       "      <th>Author</th>\n",
       "      <th>Released date</th>\n",
       "      <th>Completed date</th>\n",
       "      <th>Total Review</th>\n",
       "      <th>Recommended</th>\n",
       "      <th>Mixed Feelings</th>\n",
       "      <th>Not Recommended</th>\n",
       "    </tr>\n",
       "  </thead>\n",
       "  <tbody>\n",
       "    <tr>\n",
       "      <th>0</th>\n",
       "      <td>Berserk</td>\n",
       "      <td>9.47</td>\n",
       "      <td>363720</td>\n",
       "      <td>1</td>\n",
       "      <td>1</td>\n",
       "      <td>725079</td>\n",
       "      <td>130489</td>\n",
       "      <td>Manga</td>\n",
       "      <td>3</td>\n",
       "      <td>16</td>\n",
       "      <td>...</td>\n",
       "      <td>['Action', 'Adventure', 'Award Winning', 'Dram...</td>\n",
       "      <td>Seinen</td>\n",
       "      <td>Young Animal</td>\n",
       "      <td>['Miura,Kentarou', 'Studio Gaga']</td>\n",
       "      <td>1989-08-25</td>\n",
       "      <td>Updating</td>\n",
       "      <td>289</td>\n",
       "      <td>252</td>\n",
       "      <td>17</td>\n",
       "      <td>20</td>\n",
       "    </tr>\n",
       "    <tr>\n",
       "      <th>1</th>\n",
       "      <td>JoJo no Kimyou na Bouken Part 7: Steel Ball Ru...</td>\n",
       "      <td>9.31</td>\n",
       "      <td>172219</td>\n",
       "      <td>2</td>\n",
       "      <td>23</td>\n",
       "      <td>280428</td>\n",
       "      <td>46269</td>\n",
       "      <td>Manga</td>\n",
       "      <td>24</td>\n",
       "      <td>96</td>\n",
       "      <td>...</td>\n",
       "      <td>['Action', 'Adventure', 'Mystery', 'Supernatur...</td>\n",
       "      <td>Seinen</td>\n",
       "      <td>Ultra Jump</td>\n",
       "      <td>['Araki,Hirohiko']</td>\n",
       "      <td>2004-01-19</td>\n",
       "      <td>2011-04-19</td>\n",
       "      <td>131</td>\n",
       "      <td>123</td>\n",
       "      <td>7</td>\n",
       "      <td>1</td>\n",
       "    </tr>\n",
       "    <tr>\n",
       "      <th>2</th>\n",
       "      <td>Vagabond</td>\n",
       "      <td>9.26</td>\n",
       "      <td>154583</td>\n",
       "      <td>3</td>\n",
       "      <td>13</td>\n",
       "      <td>406082</td>\n",
       "      <td>44258</td>\n",
       "      <td>Manga</td>\n",
       "      <td>37</td>\n",
       "      <td>327</td>\n",
       "      <td>...</td>\n",
       "      <td>['Action', 'Adventure', 'Award Winning', 'Hist...</td>\n",
       "      <td>Seinen</td>\n",
       "      <td>Morning</td>\n",
       "      <td>['Inoue,Takehiko', 'Yoshikawa,Eiji']</td>\n",
       "      <td>1998-09-03</td>\n",
       "      <td>2015-05-21</td>\n",
       "      <td>104</td>\n",
       "      <td>93</td>\n",
       "      <td>9</td>\n",
       "      <td>2</td>\n",
       "    </tr>\n",
       "  </tbody>\n",
       "</table>\n",
       "<p>3 rows × 21 columns</p>\n",
       "</div>"
      ],
      "text/plain": [
       "                                               Title  Score    Vote  Ranked  \\\n",
       "0                                            Berserk   9.47  363720       1   \n",
       "1  JoJo no Kimyou na Bouken Part 7: Steel Ball Ru...   9.31  172219       2   \n",
       "2                                           Vagabond   9.26  154583       3   \n",
       "\n",
       "   Popularity  Members  Favorite  Types  Volumes  Chapters  ...  \\\n",
       "0           1   725079    130489  Manga        3        16  ...   \n",
       "1          23   280428     46269  Manga       24        96  ...   \n",
       "2          13   406082     44258  Manga       37       327  ...   \n",
       "\n",
       "                                              Genres Demographic  \\\n",
       "0  ['Action', 'Adventure', 'Award Winning', 'Dram...      Seinen   \n",
       "1  ['Action', 'Adventure', 'Mystery', 'Supernatur...      Seinen   \n",
       "2  ['Action', 'Adventure', 'Award Winning', 'Hist...      Seinen   \n",
       "\n",
       "  Serialization                                Author Released date  \\\n",
       "0  Young Animal     ['Miura,Kentarou', 'Studio Gaga']    1989-08-25   \n",
       "1    Ultra Jump                    ['Araki,Hirohiko']    2004-01-19   \n",
       "2       Morning  ['Inoue,Takehiko', 'Yoshikawa,Eiji']    1998-09-03   \n",
       "\n",
       "  Completed date Total Review  Recommended  Mixed Feelings  Not Recommended  \n",
       "0       Updating          289          252              17               20  \n",
       "1     2011-04-19          131          123               7                1  \n",
       "2     2015-05-21          104           93               9                2  \n",
       "\n",
       "[3 rows x 21 columns]"
      ]
     },
     "execution_count": 39,
     "metadata": {},
     "output_type": "execute_result"
    }
   ],
   "source": [
    "# Get the column names\n",
    "cols = raw_df.columns.tolist()\n",
    "\n",
    "# Find the index of 'Total Review' and 'Recommended'\n",
    "total_review_index = cols.index('Total Review')\n",
    "completed_index = cols.index('Completed date')\n",
    "\n",
    "\n",
    "# Move 'Total Review' before 'Recommended'\n",
    "cols.insert(completed_index, cols.pop(total_review_index))\n",
    "\n",
    "# Reorder the DataFrame\n",
    "raw_df = raw_df[cols]\n",
    "\n",
    "raw_df.head(3)"
   ]
  },
  {
   "cell_type": "markdown",
   "metadata": {
    "id": "Iplw81jHD-ny"
   },
   "source": [
    "## 6. Lưu dữ liệu đã được xử lý"
   ]
  },
  {
   "cell_type": "markdown",
   "metadata": {},
   "source": [
    "Nhóm sẽ kiểm tra lại các kiểu dữ liệu của các thuộc tính"
   ]
  },
  {
   "cell_type": "code",
   "execution_count": 40,
   "metadata": {},
   "outputs": [
    {
     "name": "stdout",
     "output_type": "stream",
     "text": [
      "<class 'pandas.core.frame.DataFrame'>\n",
      "Index: 19057 entries, 0 to 19998\n",
      "Data columns (total 21 columns):\n",
      " #   Column           Non-Null Count  Dtype  \n",
      "---  ------           --------------  -----  \n",
      " 0   Title            19057 non-null  object \n",
      " 1   Score            19057 non-null  float64\n",
      " 2   Vote             19057 non-null  int64  \n",
      " 3   Ranked           19057 non-null  int64  \n",
      " 4   Popularity       19057 non-null  int64  \n",
      " 5   Members          19057 non-null  int64  \n",
      " 6   Favorite         19057 non-null  int64  \n",
      " 7   Types            19057 non-null  object \n",
      " 8   Volumes          19057 non-null  int64  \n",
      " 9   Chapters         19057 non-null  int64  \n",
      " 10  Status           19057 non-null  object \n",
      " 11  Genres           19057 non-null  object \n",
      " 12  Demographic      11052 non-null  object \n",
      " 13  Serialization    16135 non-null  object \n",
      " 14  Author           19057 non-null  object \n",
      " 15  Released date    19057 non-null  object \n",
      " 16  Completed date   19057 non-null  object \n",
      " 17  Total Review     19057 non-null  int64  \n",
      " 18  Recommended      19057 non-null  int64  \n",
      " 19  Mixed Feelings   19057 non-null  int64  \n",
      " 20  Not Recommended  19057 non-null  int64  \n",
      "dtypes: float64(1), int64(11), object(9)\n",
      "memory usage: 3.2+ MB\n"
     ]
    }
   ],
   "source": [
    "raw_df.info()"
   ]
  },
  {
   "cell_type": "markdown",
   "metadata": {},
   "source": [
    "Kiểu dữ liệu của các thuộc tính đã hợp lý. Nhóm sẽ lưu lại dữ liệu thành file .csv"
   ]
  },
  {
   "cell_type": "code",
   "execution_count": 41,
   "metadata": {
    "colab": {
     "base_uri": "https://localhost:8080/",
     "height": 1000
    },
    "id": "ADHL9WsK5OlD",
    "outputId": "d3e85ea1-403a-424b-fe98-b4fa707edddf"
   },
   "outputs": [
    {
     "data": {
      "text/html": [
       "<div>\n",
       "<style scoped>\n",
       "    .dataframe tbody tr th:only-of-type {\n",
       "        vertical-align: middle;\n",
       "    }\n",
       "\n",
       "    .dataframe tbody tr th {\n",
       "        vertical-align: top;\n",
       "    }\n",
       "\n",
       "    .dataframe thead th {\n",
       "        text-align: right;\n",
       "    }\n",
       "</style>\n",
       "<table border=\"1\" class=\"dataframe\">\n",
       "  <thead>\n",
       "    <tr style=\"text-align: right;\">\n",
       "      <th></th>\n",
       "      <th>Title</th>\n",
       "      <th>Score</th>\n",
       "      <th>Vote</th>\n",
       "      <th>Ranked</th>\n",
       "      <th>Popularity</th>\n",
       "      <th>Members</th>\n",
       "      <th>Favorite</th>\n",
       "      <th>Types</th>\n",
       "      <th>Volumes</th>\n",
       "      <th>Chapters</th>\n",
       "      <th>...</th>\n",
       "      <th>Genres</th>\n",
       "      <th>Demographic</th>\n",
       "      <th>Serialization</th>\n",
       "      <th>Author</th>\n",
       "      <th>Released date</th>\n",
       "      <th>Completed date</th>\n",
       "      <th>Total Review</th>\n",
       "      <th>Recommended</th>\n",
       "      <th>Mixed Feelings</th>\n",
       "      <th>Not Recommended</th>\n",
       "    </tr>\n",
       "  </thead>\n",
       "  <tbody>\n",
       "    <tr>\n",
       "      <th>0</th>\n",
       "      <td>Berserk</td>\n",
       "      <td>9.47</td>\n",
       "      <td>363720</td>\n",
       "      <td>1</td>\n",
       "      <td>1</td>\n",
       "      <td>725079</td>\n",
       "      <td>130489</td>\n",
       "      <td>Manga</td>\n",
       "      <td>3</td>\n",
       "      <td>16</td>\n",
       "      <td>...</td>\n",
       "      <td>['Action', 'Adventure', 'Award Winning', 'Dram...</td>\n",
       "      <td>Seinen</td>\n",
       "      <td>Young Animal</td>\n",
       "      <td>['Miura,Kentarou', 'Studio Gaga']</td>\n",
       "      <td>1989-08-25</td>\n",
       "      <td>Updating</td>\n",
       "      <td>289</td>\n",
       "      <td>252</td>\n",
       "      <td>17</td>\n",
       "      <td>20</td>\n",
       "    </tr>\n",
       "    <tr>\n",
       "      <th>1</th>\n",
       "      <td>JoJo no Kimyou na Bouken Part 7: Steel Ball Ru...</td>\n",
       "      <td>9.31</td>\n",
       "      <td>172219</td>\n",
       "      <td>2</td>\n",
       "      <td>23</td>\n",
       "      <td>280428</td>\n",
       "      <td>46269</td>\n",
       "      <td>Manga</td>\n",
       "      <td>24</td>\n",
       "      <td>96</td>\n",
       "      <td>...</td>\n",
       "      <td>['Action', 'Adventure', 'Mystery', 'Supernatur...</td>\n",
       "      <td>Seinen</td>\n",
       "      <td>Ultra Jump</td>\n",
       "      <td>['Araki,Hirohiko']</td>\n",
       "      <td>2004-01-19</td>\n",
       "      <td>2011-04-19</td>\n",
       "      <td>131</td>\n",
       "      <td>123</td>\n",
       "      <td>7</td>\n",
       "      <td>1</td>\n",
       "    </tr>\n",
       "    <tr>\n",
       "      <th>2</th>\n",
       "      <td>Vagabond</td>\n",
       "      <td>9.26</td>\n",
       "      <td>154583</td>\n",
       "      <td>3</td>\n",
       "      <td>13</td>\n",
       "      <td>406082</td>\n",
       "      <td>44258</td>\n",
       "      <td>Manga</td>\n",
       "      <td>37</td>\n",
       "      <td>327</td>\n",
       "      <td>...</td>\n",
       "      <td>['Action', 'Adventure', 'Award Winning', 'Hist...</td>\n",
       "      <td>Seinen</td>\n",
       "      <td>Morning</td>\n",
       "      <td>['Inoue,Takehiko', 'Yoshikawa,Eiji']</td>\n",
       "      <td>1998-09-03</td>\n",
       "      <td>2015-05-21</td>\n",
       "      <td>104</td>\n",
       "      <td>93</td>\n",
       "      <td>9</td>\n",
       "      <td>2</td>\n",
       "    </tr>\n",
       "    <tr>\n",
       "      <th>3</th>\n",
       "      <td>One Piece</td>\n",
       "      <td>9.22</td>\n",
       "      <td>392811</td>\n",
       "      <td>4</td>\n",
       "      <td>4</td>\n",
       "      <td>642620</td>\n",
       "      <td>119974</td>\n",
       "      <td>Manga</td>\n",
       "      <td>3</td>\n",
       "      <td>16</td>\n",
       "      <td>...</td>\n",
       "      <td>['Action', 'Adventure', 'Fantasy']</td>\n",
       "      <td>Shounen</td>\n",
       "      <td>Shounen Jump (Weekly)</td>\n",
       "      <td>['Oda,Eiichiro']</td>\n",
       "      <td>1997-07-22</td>\n",
       "      <td>Updating</td>\n",
       "      <td>231</td>\n",
       "      <td>190</td>\n",
       "      <td>21</td>\n",
       "      <td>20</td>\n",
       "    </tr>\n",
       "    <tr>\n",
       "      <th>4</th>\n",
       "      <td>Monster</td>\n",
       "      <td>9.16</td>\n",
       "      <td>104327</td>\n",
       "      <td>5</td>\n",
       "      <td>29</td>\n",
       "      <td>258581</td>\n",
       "      <td>22008</td>\n",
       "      <td>Manga</td>\n",
       "      <td>18</td>\n",
       "      <td>162</td>\n",
       "      <td>...</td>\n",
       "      <td>['Award Winning', 'Drama', 'Mystery', 'Adult C...</td>\n",
       "      <td>Seinen</td>\n",
       "      <td>Big Comic Original</td>\n",
       "      <td>['Urasawa,Naoki']</td>\n",
       "      <td>1994-12-05</td>\n",
       "      <td>2001-12-20</td>\n",
       "      <td>86</td>\n",
       "      <td>69</td>\n",
       "      <td>11</td>\n",
       "      <td>6</td>\n",
       "    </tr>\n",
       "  </tbody>\n",
       "</table>\n",
       "<p>5 rows × 21 columns</p>\n",
       "</div>"
      ],
      "text/plain": [
       "                                               Title  Score    Vote  Ranked  \\\n",
       "0                                            Berserk   9.47  363720       1   \n",
       "1  JoJo no Kimyou na Bouken Part 7: Steel Ball Ru...   9.31  172219       2   \n",
       "2                                           Vagabond   9.26  154583       3   \n",
       "3                                          One Piece   9.22  392811       4   \n",
       "4                                            Monster   9.16  104327       5   \n",
       "\n",
       "   Popularity  Members  Favorite  Types  Volumes  Chapters  ...  \\\n",
       "0           1   725079    130489  Manga        3        16  ...   \n",
       "1          23   280428     46269  Manga       24        96  ...   \n",
       "2          13   406082     44258  Manga       37       327  ...   \n",
       "3           4   642620    119974  Manga        3        16  ...   \n",
       "4          29   258581     22008  Manga       18       162  ...   \n",
       "\n",
       "                                              Genres Demographic  \\\n",
       "0  ['Action', 'Adventure', 'Award Winning', 'Dram...      Seinen   \n",
       "1  ['Action', 'Adventure', 'Mystery', 'Supernatur...      Seinen   \n",
       "2  ['Action', 'Adventure', 'Award Winning', 'Hist...      Seinen   \n",
       "3                 ['Action', 'Adventure', 'Fantasy']     Shounen   \n",
       "4  ['Award Winning', 'Drama', 'Mystery', 'Adult C...      Seinen   \n",
       "\n",
       "           Serialization                                Author Released date  \\\n",
       "0           Young Animal     ['Miura,Kentarou', 'Studio Gaga']    1989-08-25   \n",
       "1             Ultra Jump                    ['Araki,Hirohiko']    2004-01-19   \n",
       "2                Morning  ['Inoue,Takehiko', 'Yoshikawa,Eiji']    1998-09-03   \n",
       "3  Shounen Jump (Weekly)                      ['Oda,Eiichiro']    1997-07-22   \n",
       "4     Big Comic Original                     ['Urasawa,Naoki']    1994-12-05   \n",
       "\n",
       "  Completed date Total Review  Recommended  Mixed Feelings  Not Recommended  \n",
       "0       Updating          289          252              17               20  \n",
       "1     2011-04-19          131          123               7                1  \n",
       "2     2015-05-21          104           93               9                2  \n",
       "3       Updating          231          190              21               20  \n",
       "4     2001-12-20           86           69              11                6  \n",
       "\n",
       "[5 rows x 21 columns]"
      ]
     },
     "execution_count": 41,
     "metadata": {},
     "output_type": "execute_result"
    }
   ],
   "source": [
    "raw_df.head(5)"
   ]
  },
  {
   "cell_type": "code",
   "execution_count": 42,
   "metadata": {
    "id": "TIuSdOtCDQo5"
   },
   "outputs": [],
   "source": [
    "# Lưu raw_df vào file csv tên là 'manga_processed'\n",
    "raw_df.to_csv('manga_processed.csv', index=False)"
   ]
  }
 ],
 "metadata": {
  "colab": {
   "provenance": []
  },
  "kernelspec": {
   "display_name": "Python 3",
   "language": "python",
   "name": "python3"
  },
  "language_info": {
   "codemirror_mode": {
    "name": "ipython",
    "version": 3
   },
   "file_extension": ".py",
   "mimetype": "text/x-python",
   "name": "python",
   "nbconvert_exporter": "python",
   "pygments_lexer": "ipython3",
   "version": "3.12.1"
  }
 },
 "nbformat": 4,
 "nbformat_minor": 4
}
